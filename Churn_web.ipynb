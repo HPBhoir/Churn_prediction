{
  "cells": [
    {
      "cell_type": "code",
      "execution_count": 62,
      "id": "805cc38e",
      "metadata": {
        "id": "805cc38e"
      },
      "outputs": [],
      "source": [
        "import pandas as pd\n",
        "import numpy as np\n",
        "from matplotlib import pyplot as plt\n",
        "\n",
        "from sklearn.model_selection import train_test_split"
      ]
    },
    {
      "cell_type": "code",
      "execution_count": 110,
      "id": "538a48d1",
      "metadata": {
        "scrolled": true,
        "colab": {
          "base_uri": "https://localhost:8080/",
          "height": 355
        },
        "id": "538a48d1",
        "outputId": "5342ef34-9500-47bd-c52f-9f58c5f0db92"
      },
      "outputs": [
        {
          "output_type": "stream",
          "name": "stdout",
          "text": [
            "shape: (7043, 21)\n"
          ]
        },
        {
          "output_type": "execute_result",
          "data": {
            "text/plain": [
              "   customerID  gender  SeniorCitizen Partner Dependents  tenure PhoneService  \\\n",
              "0  7590-VHVEG  Female              0     Yes         No       1           No   \n",
              "1  5575-GNVDE    Male              0      No         No      34          Yes   \n",
              "2  3668-QPYBK    Male              0      No         No       2          Yes   \n",
              "3  7795-CFOCW    Male              0      No         No      45           No   \n",
              "4  9237-HQITU  Female              0      No         No       2          Yes   \n",
              "\n",
              "      MultipleLines InternetService OnlineSecurity  ... DeviceProtection  \\\n",
              "0  No phone service             DSL             No  ...               No   \n",
              "1                No             DSL            Yes  ...              Yes   \n",
              "2                No             DSL            Yes  ...               No   \n",
              "3  No phone service             DSL            Yes  ...              Yes   \n",
              "4                No     Fiber optic             No  ...               No   \n",
              "\n",
              "  TechSupport StreamingTV StreamingMovies        Contract PaperlessBilling  \\\n",
              "0          No          No              No  Month-to-month              Yes   \n",
              "1          No          No              No        One year               No   \n",
              "2          No          No              No  Month-to-month              Yes   \n",
              "3         Yes          No              No        One year               No   \n",
              "4          No          No              No  Month-to-month              Yes   \n",
              "\n",
              "               PaymentMethod MonthlyCharges  TotalCharges Churn  \n",
              "0           Electronic check          29.85         29.85    No  \n",
              "1               Mailed check          56.95        1889.5    No  \n",
              "2               Mailed check          53.85        108.15   Yes  \n",
              "3  Bank transfer (automatic)          42.30       1840.75    No  \n",
              "4           Electronic check          70.70        151.65   Yes  \n",
              "\n",
              "[5 rows x 21 columns]"
            ],
            "text/html": [
              "\n",
              "  <div id=\"df-3e47a14c-0e24-4f25-9c0d-a66b39ed0133\" class=\"colab-df-container\">\n",
              "    <div>\n",
              "<style scoped>\n",
              "    .dataframe tbody tr th:only-of-type {\n",
              "        vertical-align: middle;\n",
              "    }\n",
              "\n",
              "    .dataframe tbody tr th {\n",
              "        vertical-align: top;\n",
              "    }\n",
              "\n",
              "    .dataframe thead th {\n",
              "        text-align: right;\n",
              "    }\n",
              "</style>\n",
              "<table border=\"1\" class=\"dataframe\">\n",
              "  <thead>\n",
              "    <tr style=\"text-align: right;\">\n",
              "      <th></th>\n",
              "      <th>customerID</th>\n",
              "      <th>gender</th>\n",
              "      <th>SeniorCitizen</th>\n",
              "      <th>Partner</th>\n",
              "      <th>Dependents</th>\n",
              "      <th>tenure</th>\n",
              "      <th>PhoneService</th>\n",
              "      <th>MultipleLines</th>\n",
              "      <th>InternetService</th>\n",
              "      <th>OnlineSecurity</th>\n",
              "      <th>...</th>\n",
              "      <th>DeviceProtection</th>\n",
              "      <th>TechSupport</th>\n",
              "      <th>StreamingTV</th>\n",
              "      <th>StreamingMovies</th>\n",
              "      <th>Contract</th>\n",
              "      <th>PaperlessBilling</th>\n",
              "      <th>PaymentMethod</th>\n",
              "      <th>MonthlyCharges</th>\n",
              "      <th>TotalCharges</th>\n",
              "      <th>Churn</th>\n",
              "    </tr>\n",
              "  </thead>\n",
              "  <tbody>\n",
              "    <tr>\n",
              "      <th>0</th>\n",
              "      <td>7590-VHVEG</td>\n",
              "      <td>Female</td>\n",
              "      <td>0</td>\n",
              "      <td>Yes</td>\n",
              "      <td>No</td>\n",
              "      <td>1</td>\n",
              "      <td>No</td>\n",
              "      <td>No phone service</td>\n",
              "      <td>DSL</td>\n",
              "      <td>No</td>\n",
              "      <td>...</td>\n",
              "      <td>No</td>\n",
              "      <td>No</td>\n",
              "      <td>No</td>\n",
              "      <td>No</td>\n",
              "      <td>Month-to-month</td>\n",
              "      <td>Yes</td>\n",
              "      <td>Electronic check</td>\n",
              "      <td>29.85</td>\n",
              "      <td>29.85</td>\n",
              "      <td>No</td>\n",
              "    </tr>\n",
              "    <tr>\n",
              "      <th>1</th>\n",
              "      <td>5575-GNVDE</td>\n",
              "      <td>Male</td>\n",
              "      <td>0</td>\n",
              "      <td>No</td>\n",
              "      <td>No</td>\n",
              "      <td>34</td>\n",
              "      <td>Yes</td>\n",
              "      <td>No</td>\n",
              "      <td>DSL</td>\n",
              "      <td>Yes</td>\n",
              "      <td>...</td>\n",
              "      <td>Yes</td>\n",
              "      <td>No</td>\n",
              "      <td>No</td>\n",
              "      <td>No</td>\n",
              "      <td>One year</td>\n",
              "      <td>No</td>\n",
              "      <td>Mailed check</td>\n",
              "      <td>56.95</td>\n",
              "      <td>1889.5</td>\n",
              "      <td>No</td>\n",
              "    </tr>\n",
              "    <tr>\n",
              "      <th>2</th>\n",
              "      <td>3668-QPYBK</td>\n",
              "      <td>Male</td>\n",
              "      <td>0</td>\n",
              "      <td>No</td>\n",
              "      <td>No</td>\n",
              "      <td>2</td>\n",
              "      <td>Yes</td>\n",
              "      <td>No</td>\n",
              "      <td>DSL</td>\n",
              "      <td>Yes</td>\n",
              "      <td>...</td>\n",
              "      <td>No</td>\n",
              "      <td>No</td>\n",
              "      <td>No</td>\n",
              "      <td>No</td>\n",
              "      <td>Month-to-month</td>\n",
              "      <td>Yes</td>\n",
              "      <td>Mailed check</td>\n",
              "      <td>53.85</td>\n",
              "      <td>108.15</td>\n",
              "      <td>Yes</td>\n",
              "    </tr>\n",
              "    <tr>\n",
              "      <th>3</th>\n",
              "      <td>7795-CFOCW</td>\n",
              "      <td>Male</td>\n",
              "      <td>0</td>\n",
              "      <td>No</td>\n",
              "      <td>No</td>\n",
              "      <td>45</td>\n",
              "      <td>No</td>\n",
              "      <td>No phone service</td>\n",
              "      <td>DSL</td>\n",
              "      <td>Yes</td>\n",
              "      <td>...</td>\n",
              "      <td>Yes</td>\n",
              "      <td>Yes</td>\n",
              "      <td>No</td>\n",
              "      <td>No</td>\n",
              "      <td>One year</td>\n",
              "      <td>No</td>\n",
              "      <td>Bank transfer (automatic)</td>\n",
              "      <td>42.30</td>\n",
              "      <td>1840.75</td>\n",
              "      <td>No</td>\n",
              "    </tr>\n",
              "    <tr>\n",
              "      <th>4</th>\n",
              "      <td>9237-HQITU</td>\n",
              "      <td>Female</td>\n",
              "      <td>0</td>\n",
              "      <td>No</td>\n",
              "      <td>No</td>\n",
              "      <td>2</td>\n",
              "      <td>Yes</td>\n",
              "      <td>No</td>\n",
              "      <td>Fiber optic</td>\n",
              "      <td>No</td>\n",
              "      <td>...</td>\n",
              "      <td>No</td>\n",
              "      <td>No</td>\n",
              "      <td>No</td>\n",
              "      <td>No</td>\n",
              "      <td>Month-to-month</td>\n",
              "      <td>Yes</td>\n",
              "      <td>Electronic check</td>\n",
              "      <td>70.70</td>\n",
              "      <td>151.65</td>\n",
              "      <td>Yes</td>\n",
              "    </tr>\n",
              "  </tbody>\n",
              "</table>\n",
              "<p>5 rows × 21 columns</p>\n",
              "</div>\n",
              "    <div class=\"colab-df-buttons\">\n",
              "\n",
              "  <div class=\"colab-df-container\">\n",
              "    <button class=\"colab-df-convert\" onclick=\"convertToInteractive('df-3e47a14c-0e24-4f25-9c0d-a66b39ed0133')\"\n",
              "            title=\"Convert this dataframe to an interactive table.\"\n",
              "            style=\"display:none;\">\n",
              "\n",
              "  <svg xmlns=\"http://www.w3.org/2000/svg\" height=\"24px\" viewBox=\"0 -960 960 960\">\n",
              "    <path d=\"M120-120v-720h720v720H120Zm60-500h600v-160H180v160Zm220 220h160v-160H400v160Zm0 220h160v-160H400v160ZM180-400h160v-160H180v160Zm440 0h160v-160H620v160ZM180-180h160v-160H180v160Zm440 0h160v-160H620v160Z\"/>\n",
              "  </svg>\n",
              "    </button>\n",
              "\n",
              "  <style>\n",
              "    .colab-df-container {\n",
              "      display:flex;\n",
              "      gap: 12px;\n",
              "    }\n",
              "\n",
              "    .colab-df-convert {\n",
              "      background-color: #E8F0FE;\n",
              "      border: none;\n",
              "      border-radius: 50%;\n",
              "      cursor: pointer;\n",
              "      display: none;\n",
              "      fill: #1967D2;\n",
              "      height: 32px;\n",
              "      padding: 0 0 0 0;\n",
              "      width: 32px;\n",
              "    }\n",
              "\n",
              "    .colab-df-convert:hover {\n",
              "      background-color: #E2EBFA;\n",
              "      box-shadow: 0px 1px 2px rgba(60, 64, 67, 0.3), 0px 1px 3px 1px rgba(60, 64, 67, 0.15);\n",
              "      fill: #174EA6;\n",
              "    }\n",
              "\n",
              "    .colab-df-buttons div {\n",
              "      margin-bottom: 4px;\n",
              "    }\n",
              "\n",
              "    [theme=dark] .colab-df-convert {\n",
              "      background-color: #3B4455;\n",
              "      fill: #D2E3FC;\n",
              "    }\n",
              "\n",
              "    [theme=dark] .colab-df-convert:hover {\n",
              "      background-color: #434B5C;\n",
              "      box-shadow: 0px 1px 3px 1px rgba(0, 0, 0, 0.15);\n",
              "      filter: drop-shadow(0px 1px 2px rgba(0, 0, 0, 0.3));\n",
              "      fill: #FFFFFF;\n",
              "    }\n",
              "  </style>\n",
              "\n",
              "    <script>\n",
              "      const buttonEl =\n",
              "        document.querySelector('#df-3e47a14c-0e24-4f25-9c0d-a66b39ed0133 button.colab-df-convert');\n",
              "      buttonEl.style.display =\n",
              "        google.colab.kernel.accessAllowed ? 'block' : 'none';\n",
              "\n",
              "      async function convertToInteractive(key) {\n",
              "        const element = document.querySelector('#df-3e47a14c-0e24-4f25-9c0d-a66b39ed0133');\n",
              "        const dataTable =\n",
              "          await google.colab.kernel.invokeFunction('convertToInteractive',\n",
              "                                                    [key], {});\n",
              "        if (!dataTable) return;\n",
              "\n",
              "        const docLinkHtml = 'Like what you see? Visit the ' +\n",
              "          '<a target=\"_blank\" href=https://colab.research.google.com/notebooks/data_table.ipynb>data table notebook</a>'\n",
              "          + ' to learn more about interactive tables.';\n",
              "        element.innerHTML = '';\n",
              "        dataTable['output_type'] = 'display_data';\n",
              "        await google.colab.output.renderOutput(dataTable, element);\n",
              "        const docLink = document.createElement('div');\n",
              "        docLink.innerHTML = docLinkHtml;\n",
              "        element.appendChild(docLink);\n",
              "      }\n",
              "    </script>\n",
              "  </div>\n",
              "\n",
              "\n",
              "<div id=\"df-61e34d96-117c-4ac2-ac08-b36e70ca756e\">\n",
              "  <button class=\"colab-df-quickchart\" onclick=\"quickchart('df-61e34d96-117c-4ac2-ac08-b36e70ca756e')\"\n",
              "            title=\"Suggest charts.\"\n",
              "            style=\"display:none;\">\n",
              "\n",
              "<svg xmlns=\"http://www.w3.org/2000/svg\" height=\"24px\"viewBox=\"0 0 24 24\"\n",
              "     width=\"24px\">\n",
              "    <g>\n",
              "        <path d=\"M19 3H5c-1.1 0-2 .9-2 2v14c0 1.1.9 2 2 2h14c1.1 0 2-.9 2-2V5c0-1.1-.9-2-2-2zM9 17H7v-7h2v7zm4 0h-2V7h2v10zm4 0h-2v-4h2v4z\"/>\n",
              "    </g>\n",
              "</svg>\n",
              "  </button>\n",
              "\n",
              "<style>\n",
              "  .colab-df-quickchart {\n",
              "    background-color: #E8F0FE;\n",
              "    border: none;\n",
              "    border-radius: 50%;\n",
              "    cursor: pointer;\n",
              "    display: none;\n",
              "    fill: #1967D2;\n",
              "    height: 32px;\n",
              "    padding: 0 0 0 0;\n",
              "    width: 32px;\n",
              "  }\n",
              "\n",
              "  .colab-df-quickchart:hover {\n",
              "    background-color: #E2EBFA;\n",
              "    box-shadow: 0px 1px 2px rgba(60, 64, 67, 0.3), 0px 1px 3px 1px rgba(60, 64, 67, 0.15);\n",
              "    fill: #174EA6;\n",
              "  }\n",
              "\n",
              "  [theme=dark] .colab-df-quickchart {\n",
              "    background-color: #3B4455;\n",
              "    fill: #D2E3FC;\n",
              "  }\n",
              "\n",
              "  [theme=dark] .colab-df-quickchart:hover {\n",
              "    background-color: #434B5C;\n",
              "    box-shadow: 0px 1px 3px 1px rgba(0, 0, 0, 0.15);\n",
              "    filter: drop-shadow(0px 1px 2px rgba(0, 0, 0, 0.3));\n",
              "    fill: #FFFFFF;\n",
              "  }\n",
              "</style>\n",
              "\n",
              "  <script>\n",
              "    async function quickchart(key) {\n",
              "      const charts = await google.colab.kernel.invokeFunction(\n",
              "          'suggestCharts', [key], {});\n",
              "    }\n",
              "    (() => {\n",
              "      let quickchartButtonEl =\n",
              "        document.querySelector('#df-61e34d96-117c-4ac2-ac08-b36e70ca756e button');\n",
              "      quickchartButtonEl.style.display =\n",
              "        google.colab.kernel.accessAllowed ? 'block' : 'none';\n",
              "    })();\n",
              "  </script>\n",
              "</div>\n",
              "    </div>\n",
              "  </div>\n"
            ]
          },
          "metadata": {},
          "execution_count": 110
        }
      ],
      "source": [
        "data = pd.read_csv(\"Customer_churn.csv\")\n",
        "print(\"shape:\",data.shape)\n",
        "data.head()"
      ]
    },
    {
      "cell_type": "code",
      "execution_count": 64,
      "id": "efa74ed5",
      "metadata": {
        "id": "efa74ed5"
      },
      "outputs": [],
      "source": [
        "data.drop('customerID',axis='columns',inplace=True)"
      ]
    },
    {
      "cell_type": "code",
      "execution_count": 65,
      "id": "9a106c01",
      "metadata": {
        "scrolled": false,
        "colab": {
          "base_uri": "https://localhost:8080/"
        },
        "id": "9a106c01",
        "outputId": "25ad8fb7-197d-4d26-e3de-24605909dd0c"
      },
      "outputs": [
        {
          "output_type": "stream",
          "name": "stdout",
          "text": [
            "<class 'pandas.core.frame.DataFrame'>\n",
            "RangeIndex: 7043 entries, 0 to 7042\n",
            "Data columns (total 20 columns):\n",
            " #   Column            Non-Null Count  Dtype  \n",
            "---  ------            --------------  -----  \n",
            " 0   gender            7043 non-null   object \n",
            " 1   SeniorCitizen     7043 non-null   int64  \n",
            " 2   Partner           7043 non-null   object \n",
            " 3   Dependents        7043 non-null   object \n",
            " 4   tenure            7043 non-null   int64  \n",
            " 5   PhoneService      7043 non-null   object \n",
            " 6   MultipleLines     7043 non-null   object \n",
            " 7   InternetService   7043 non-null   object \n",
            " 8   OnlineSecurity    7043 non-null   object \n",
            " 9   OnlineBackup      7043 non-null   object \n",
            " 10  DeviceProtection  7043 non-null   object \n",
            " 11  TechSupport       7043 non-null   object \n",
            " 12  StreamingTV       7043 non-null   object \n",
            " 13  StreamingMovies   7043 non-null   object \n",
            " 14  Contract          7043 non-null   object \n",
            " 15  PaperlessBilling  7043 non-null   object \n",
            " 16  PaymentMethod     7043 non-null   object \n",
            " 17  MonthlyCharges    7043 non-null   float64\n",
            " 18  TotalCharges      7043 non-null   object \n",
            " 19  Churn             7043 non-null   object \n",
            "dtypes: float64(1), int64(2), object(17)\n",
            "memory usage: 1.1+ MB\n"
          ]
        }
      ],
      "source": [
        "data.info()"
      ]
    },
    {
      "cell_type": "code",
      "execution_count": 66,
      "id": "33b7a702",
      "metadata": {
        "scrolled": true,
        "colab": {
          "base_uri": "https://localhost:8080/",
          "height": 489
        },
        "id": "33b7a702",
        "outputId": "668fafab-b2fa-4520-83a3-912865cf35f9"
      },
      "outputs": [
        {
          "output_type": "execute_result",
          "data": {
            "text/plain": [
              "<matplotlib.legend.Legend at 0x7a72b8d4e740>"
            ]
          },
          "metadata": {},
          "execution_count": 66
        },
        {
          "output_type": "display_data",
          "data": {
            "text/plain": [
              "<Figure size 640x480 with 1 Axes>"
            ],
            "image/png": "[encoded data removed]"
          },
          "metadata": {}
        }
      ],
      "source": [
        "tenure_churn_no = data[data.Churn=='No'].tenure\n",
        "tenure_churn_yes = data[data.Churn=='Yes'].tenure\n",
        "\n",
        "plt.xlabel(\"tenure\")\n",
        "plt.ylabel(\"Number Of Customers\")\n",
        "plt.title(\"Customer Churn Prediction Visualiztion\")\n",
        "\n",
        "\n",
        "plt.hist([tenure_churn_yes, tenure_churn_no], rwidth=0.95, color=['green','red'],label=['Churn=Yes','Churn=No'])\n",
        "plt.legend()\n"
      ]
    },
    {
      "cell_type": "code",
      "execution_count": 67,
      "id": "04e1b6f0",
      "metadata": {
        "colab": {
          "base_uri": "https://localhost:8080/"
        },
        "id": "04e1b6f0",
        "outputId": "b7c8dd64-0e38-4c63-db2e-e74a5213ed36"
      },
      "outputs": [
        {
          "output_type": "stream",
          "name": "stdout",
          "text": [
            "gender: ['Female' 'Male']\n",
            "Partner: ['Yes' 'No']\n",
            "Dependents: ['No' 'Yes']\n",
            "PhoneService: ['No' 'Yes']\n",
            "MultipleLines: ['No phone service' 'No' 'Yes']\n",
            "InternetService: ['DSL' 'Fiber optic' 'No']\n",
            "OnlineSecurity: ['No' 'Yes' 'No internet service']\n",
            "OnlineBackup: ['Yes' 'No' 'No internet service']\n",
            "DeviceProtection: ['No' 'Yes' 'No internet service']\n",
            "TechSupport: ['No' 'Yes' 'No internet service']\n",
            "StreamingTV: ['No' 'Yes' 'No internet service']\n",
            "StreamingMovies: ['No' 'Yes' 'No internet service']\n",
            "Contract: ['Month-to-month' 'One year' 'Two year']\n",
            "PaperlessBilling: ['Yes' 'No']\n",
            "PaymentMethod: ['Electronic check' 'Mailed check' 'Bank transfer (automatic)'\n",
            " 'Credit card (automatic)']\n",
            "TotalCharges: ['29.85' '1889.5' '108.15' ... '346.45' '306.6' '6844.5']\n",
            "Churn: ['No' 'Yes']\n"
          ]
        }
      ],
      "source": [
        "# New thing to learn in data cleaning\n",
        "def print_unique_col_values(df):\n",
        "       for column in df:\n",
        "            if df[column].dtypes=='object':\n",
        "                print(f'{column}: {df[column].unique()}')\n",
        "\n",
        "\n",
        "print_unique_col_values(data)"
      ]
    },
    {
      "cell_type": "code",
      "execution_count": 68,
      "id": "95694411",
      "metadata": {
        "id": "95694411"
      },
      "outputs": [],
      "source": [
        "data = data.replace({\"Yes\":1 , \"No\":0 , 'No internet service':0 , 'No phone service':0})"
      ]
    },
    {
      "cell_type": "code",
      "execution_count": 69,
      "id": "57d983b6",
      "metadata": {
        "colab": {
          "base_uri": "https://localhost:8080/"
        },
        "id": "57d983b6",
        "outputId": "1d3b5d1c-bed0-4809-c575-60a4c31bca11"
      },
      "outputs": [
        {
          "output_type": "stream",
          "name": "stdout",
          "text": [
            "<class 'pandas.core.frame.DataFrame'>\n",
            "RangeIndex: 7043 entries, 0 to 7042\n",
            "Data columns (total 20 columns):\n",
            " #   Column            Non-Null Count  Dtype  \n",
            "---  ------            --------------  -----  \n",
            " 0   gender            7043 non-null   object \n",
            " 1   SeniorCitizen     7043 non-null   int64  \n",
            " 2   Partner           7043 non-null   int64  \n",
            " 3   Dependents        7043 non-null   int64  \n",
            " 4   tenure            7043 non-null   int64  \n",
            " 5   PhoneService      7043 non-null   int64  \n",
            " 6   MultipleLines     7043 non-null   int64  \n",
            " 7   InternetService   7043 non-null   object \n",
            " 8   OnlineSecurity    7043 non-null   int64  \n",
            " 9   OnlineBackup      7043 non-null   int64  \n",
            " 10  DeviceProtection  7043 non-null   int64  \n",
            " 11  TechSupport       7043 non-null   int64  \n",
            " 12  StreamingTV       7043 non-null   int64  \n",
            " 13  StreamingMovies   7043 non-null   int64  \n",
            " 14  Contract          7043 non-null   object \n",
            " 15  PaperlessBilling  7043 non-null   int64  \n",
            " 16  PaymentMethod     7043 non-null   object \n",
            " 17  MonthlyCharges    7043 non-null   float64\n",
            " 18  TotalCharges      7043 non-null   object \n",
            " 19  Churn             7043 non-null   int64  \n",
            "dtypes: float64(1), int64(14), object(5)\n",
            "memory usage: 1.1+ MB\n"
          ]
        }
      ],
      "source": [
        "data.info()"
      ]
    },
    {
      "cell_type": "code",
      "execution_count": 70,
      "id": "c3b9d41f",
      "metadata": {
        "id": "c3b9d41f"
      },
      "outputs": [],
      "source": [
        "columns_to_encode = ['Contract', 'PaymentMethod' , 'gender','InternetService']\n",
        "data[\"InternetService\"] = data[\"InternetService\"].replace({0:\"0\"})\n",
        "\n",
        "from sklearn.preprocessing import LabelEncoder\n",
        "label_encoder = LabelEncoder()\n",
        "for col in columns_to_encode:\n",
        "    data[col + '_encoded'] = label_encoder.fit_transform(data[col])\n",
        "\n",
        "\n",
        "data = data.drop(['Contract', 'PaymentMethod' , 'gender','InternetService'] , axis = 1)"
      ]
    },
    {
      "cell_type": "code",
      "execution_count": 71,
      "id": "96440d1e",
      "metadata": {
        "colab": {
          "base_uri": "https://localhost:8080/"
        },
        "id": "96440d1e",
        "outputId": "1fc39c54-d7df-42ad-f3b1-2e006196a3e9"
      },
      "outputs": [
        {
          "output_type": "stream",
          "name": "stdout",
          "text": [
            "<class 'pandas.core.frame.DataFrame'>\n",
            "RangeIndex: 7043 entries, 0 to 7042\n",
            "Data columns (total 20 columns):\n",
            " #   Column                   Non-Null Count  Dtype  \n",
            "---  ------                   --------------  -----  \n",
            " 0   SeniorCitizen            7043 non-null   int64  \n",
            " 1   Partner                  7043 non-null   int64  \n",
            " 2   Dependents               7043 non-null   int64  \n",
            " 3   tenure                   7043 non-null   int64  \n",
            " 4   PhoneService             7043 non-null   int64  \n",
            " 5   MultipleLines            7043 non-null   int64  \n",
            " 6   OnlineSecurity           7043 non-null   int64  \n",
            " 7   OnlineBackup             7043 non-null   int64  \n",
            " 8   DeviceProtection         7043 non-null   int64  \n",
            " 9   TechSupport              7043 non-null   int64  \n",
            " 10  StreamingTV              7043 non-null   int64  \n",
            " 11  StreamingMovies          7043 non-null   int64  \n",
            " 12  PaperlessBilling         7043 non-null   int64  \n",
            " 13  MonthlyCharges           7043 non-null   float64\n",
            " 14  TotalCharges             7043 non-null   object \n",
            " 15  Churn                    7043 non-null   int64  \n",
            " 16  Contract_encoded         7043 non-null   int64  \n",
            " 17  PaymentMethod_encoded    7043 non-null   int64  \n",
            " 18  gender_encoded           7043 non-null   int64  \n",
            " 19  InternetService_encoded  7043 non-null   int64  \n",
            "dtypes: float64(1), int64(18), object(1)\n",
            "memory usage: 1.1+ MB\n"
          ]
        }
      ],
      "source": [
        "data.info()"
      ]
    },
    {
      "cell_type": "code",
      "execution_count": 72,
      "id": "aa4fefba",
      "metadata": {
        "colab": {
          "base_uri": "https://localhost:8080/"
        },
        "id": "aa4fefba",
        "outputId": "49cd4856-b2f3-459c-c3c4-dea616f547db"
      },
      "outputs": [
        {
          "output_type": "stream",
          "name": "stderr",
          "text": [
            "<ipython-input-72-6b14ce0d1731>:7: SettingWithCopyWarning: \n",
            "A value is trying to be set on a copy of a slice from a DataFrame.\n",
            "Try using .loc[row_indexer,col_indexer] = value instead\n",
            "\n",
            "See the caveats in the documentation: https://pandas.pydata.org/pandas-docs/stable/user_guide/indexing.html#returning-a-view-versus-a-copy\n",
            "  data.TotalCharges = pd.to_numeric(data.TotalCharges)\n"
          ]
        }
      ],
      "source": [
        "pd.to_numeric(data.TotalCharges,errors='coerce').isnull()\n",
        "data[pd.to_numeric(data.TotalCharges,errors='coerce').isnull()]     # These are the rows with empty cells\n",
        "# Lets drop these rows as they are only 11 of them\n",
        "data = data[data.TotalCharges!=' ']\n",
        "\n",
        "# Again appying the to_numeric we get TotalCharges as float\n",
        "data.TotalCharges = pd.to_numeric(data.TotalCharges)"
      ]
    },
    {
      "cell_type": "code",
      "execution_count": 73,
      "id": "580573f6",
      "metadata": {
        "scrolled": false,
        "colab": {
          "base_uri": "https://localhost:8080/"
        },
        "id": "580573f6",
        "outputId": "3aafb647-a966-4332-cd9e-1aaa2516850c"
      },
      "outputs": [
        {
          "output_type": "stream",
          "name": "stdout",
          "text": [
            "<class 'pandas.core.frame.DataFrame'>\n",
            "Int64Index: 7032 entries, 0 to 7042\n",
            "Data columns (total 20 columns):\n",
            " #   Column                   Non-Null Count  Dtype  \n",
            "---  ------                   --------------  -----  \n",
            " 0   SeniorCitizen            7032 non-null   int64  \n",
            " 1   Partner                  7032 non-null   int64  \n",
            " 2   Dependents               7032 non-null   int64  \n",
            " 3   tenure                   7032 non-null   int64  \n",
            " 4   PhoneService             7032 non-null   int64  \n",
            " 5   MultipleLines            7032 non-null   int64  \n",
            " 6   OnlineSecurity           7032 non-null   int64  \n",
            " 7   OnlineBackup             7032 non-null   int64  \n",
            " 8   DeviceProtection         7032 non-null   int64  \n",
            " 9   TechSupport              7032 non-null   int64  \n",
            " 10  StreamingTV              7032 non-null   int64  \n",
            " 11  StreamingMovies          7032 non-null   int64  \n",
            " 12  PaperlessBilling         7032 non-null   int64  \n",
            " 13  MonthlyCharges           7032 non-null   float64\n",
            " 14  TotalCharges             7032 non-null   float64\n",
            " 15  Churn                    7032 non-null   int64  \n",
            " 16  Contract_encoded         7032 non-null   int64  \n",
            " 17  PaymentMethod_encoded    7032 non-null   int64  \n",
            " 18  gender_encoded           7032 non-null   int64  \n",
            " 19  InternetService_encoded  7032 non-null   int64  \n",
            "dtypes: float64(2), int64(18)\n",
            "memory usage: 1.1 MB\n"
          ]
        }
      ],
      "source": [
        "data.info()"
      ]
    },
    {
      "cell_type": "code",
      "execution_count": 74,
      "id": "56726b08",
      "metadata": {
        "id": "56726b08"
      },
      "outputs": [],
      "source": [
        "data_ann = data"
      ]
    },
    {
      "cell_type": "code",
      "execution_count": 75,
      "id": "52fd1c5f",
      "metadata": {
        "scrolled": true,
        "colab": {
          "base_uri": "https://localhost:8080/"
        },
        "id": "52fd1c5f",
        "outputId": "e0848825-dec9-464b-e616-32fe26f82ba4"
      },
      "outputs": [
        {
          "output_type": "stream",
          "name": "stdout",
          "text": [
            "SeniorCitizen: [0 1]\n",
            "Partner: [1 0]\n",
            "Dependents: [0 1]\n",
            "tenure: [ 1 34  2 45  8 22 10 28 62 13 16 58 49 25 69 52 71 21 12 30 47 72 17 27\n",
            "  5 46 11 70 63 43 15 60 18 66  9  3 31 50 64 56  7 42 35 48 29 65 38 68\n",
            " 32 55 37 36 41  6  4 33 67 23 57 61 14 20 53 40 59 24 44 19 54 51 26 39]\n",
            "PhoneService: [0 1]\n",
            "MultipleLines: [0 1]\n",
            "OnlineSecurity: [0 1]\n",
            "OnlineBackup: [1 0]\n",
            "DeviceProtection: [0 1]\n",
            "TechSupport: [0 1]\n",
            "StreamingTV: [0 1]\n",
            "StreamingMovies: [0 1]\n",
            "PaperlessBilling: [1 0]\n",
            "MonthlyCharges: [29.85 56.95 53.85 ... 63.1  44.2  78.7 ]\n",
            "TotalCharges: [  29.85 1889.5   108.15 ...  346.45  306.6  6844.5 ]\n",
            "Churn: [0 1]\n",
            "Contract_encoded: [0 1 2]\n",
            "PaymentMethod_encoded: [2 3 0 1]\n",
            "gender_encoded: [0 1]\n",
            "InternetService_encoded: [1 2 0]\n"
          ]
        }
      ],
      "source": [
        "# print_unique_col_values(data)\n",
        "\n",
        "df = data\n",
        "for column in df:\n",
        "    print(f'{column}: {df[column].unique()}')"
      ]
    },
    {
      "cell_type": "code",
      "execution_count": 76,
      "id": "ababb33a",
      "metadata": {
        "colab": {
          "base_uri": "https://localhost:8080/",
          "height": 439
        },
        "id": "ababb33a",
        "outputId": "a948a6e5-a96e-4e84-c3b3-c1713c2a747e"
      },
      "outputs": [
        {
          "output_type": "execute_result",
          "data": {
            "text/plain": [
              "      SeniorCitizen  Partner  Dependents    tenure  PhoneService  \\\n",
              "0                 0        1           0  0.000000             0   \n",
              "1                 0        0           0  0.464789             1   \n",
              "2                 0        0           0  0.014085             1   \n",
              "3                 0        0           0  0.619718             0   \n",
              "4                 0        0           0  0.014085             1   \n",
              "...             ...      ...         ...       ...           ...   \n",
              "7038              0        1           1  0.323944             1   \n",
              "7039              0        1           1  1.000000             1   \n",
              "7040              0        1           1  0.140845             0   \n",
              "7041              1        1           0  0.042254             1   \n",
              "7042              0        0           0  0.915493             1   \n",
              "\n",
              "      MultipleLines  OnlineSecurity  OnlineBackup  DeviceProtection  \\\n",
              "0                 0               0             1                 0   \n",
              "1                 0               1             0                 1   \n",
              "2                 0               1             1                 0   \n",
              "3                 0               1             0                 1   \n",
              "4                 0               0             0                 0   \n",
              "...             ...             ...           ...               ...   \n",
              "7038              1               1             0                 1   \n",
              "7039              1               0             1                 1   \n",
              "7040              0               1             0                 0   \n",
              "7041              1               0             0                 0   \n",
              "7042              0               1             0                 1   \n",
              "\n",
              "      TechSupport  StreamingTV  StreamingMovies  PaperlessBilling  \\\n",
              "0               0            0                0                 1   \n",
              "1               0            0                0                 0   \n",
              "2               0            0                0                 1   \n",
              "3               1            0                0                 0   \n",
              "4               0            0                0                 1   \n",
              "...           ...          ...              ...               ...   \n",
              "7038            1            1                1                 1   \n",
              "7039            0            1                1                 1   \n",
              "7040            0            0                0                 1   \n",
              "7041            0            0                0                 1   \n",
              "7042            1            1                1                 1   \n",
              "\n",
              "      MonthlyCharges  TotalCharges  Churn  Contract_encoded  \\\n",
              "0           0.115423      0.001275      0                 0   \n",
              "1           0.385075      0.215867      0                 1   \n",
              "2           0.354229      0.010310      1                 0   \n",
              "3           0.239303      0.210241      0                 1   \n",
              "4           0.521891      0.015330      1                 0   \n",
              "...              ...           ...    ...               ...   \n",
              "7038        0.662189      0.227521      0                 1   \n",
              "7039        0.845274      0.847461      0                 1   \n",
              "7040        0.112935      0.037809      0                 0   \n",
              "7041        0.558706      0.033210      1                 0   \n",
              "7042        0.869652      0.787641      0                 2   \n",
              "\n",
              "      PaymentMethod_encoded  gender_encoded  InternetService_encoded  \n",
              "0                         2               0                        1  \n",
              "1                         3               1                        1  \n",
              "2                         3               1                        1  \n",
              "3                         0               1                        1  \n",
              "4                         2               0                        2  \n",
              "...                     ...             ...                      ...  \n",
              "7038                      3               1                        1  \n",
              "7039                      1               0                        2  \n",
              "7040                      2               0                        1  \n",
              "7041                      3               1                        2  \n",
              "7042                      0               1                        2  \n",
              "\n",
              "[7032 rows x 20 columns]"
            ],
            "text/html": [
              "\n",
              "  <div id=\"df-b7241be5-a53d-4dcd-b116-05e310ff76d7\" class=\"colab-df-container\">\n",
              "    <div>\n",
              "<style scoped>\n",
              "    .dataframe tbody tr th:only-of-type {\n",
              "        vertical-align: middle;\n",
              "    }\n",
              "\n",
              "    .dataframe tbody tr th {\n",
              "        vertical-align: top;\n",
              "    }\n",
              "\n",
              "    .dataframe thead th {\n",
              "        text-align: right;\n",
              "    }\n",
              "</style>\n",
              "<table border=\"1\" class=\"dataframe\">\n",
              "  <thead>\n",
              "    <tr style=\"text-align: right;\">\n",
              "      <th></th>\n",
              "      <th>SeniorCitizen</th>\n",
              "      <th>Partner</th>\n",
              "      <th>Dependents</th>\n",
              "      <th>tenure</th>\n",
              "      <th>PhoneService</th>\n",
              "      <th>MultipleLines</th>\n",
              "      <th>OnlineSecurity</th>\n",
              "      <th>OnlineBackup</th>\n",
              "      <th>DeviceProtection</th>\n",
              "      <th>TechSupport</th>\n",
              "      <th>StreamingTV</th>\n",
              "      <th>StreamingMovies</th>\n",
              "      <th>PaperlessBilling</th>\n",
              "      <th>MonthlyCharges</th>\n",
              "      <th>TotalCharges</th>\n",
              "      <th>Churn</th>\n",
              "      <th>Contract_encoded</th>\n",
              "      <th>PaymentMethod_encoded</th>\n",
              "      <th>gender_encoded</th>\n",
              "      <th>InternetService_encoded</th>\n",
              "    </tr>\n",
              "  </thead>\n",
              "  <tbody>\n",
              "    <tr>\n",
              "      <th>0</th>\n",
              "      <td>0</td>\n",
              "      <td>1</td>\n",
              "      <td>0</td>\n",
              "      <td>0.000000</td>\n",
              "      <td>0</td>\n",
              "      <td>0</td>\n",
              "      <td>0</td>\n",
              "      <td>1</td>\n",
              "      <td>0</td>\n",
              "      <td>0</td>\n",
              "      <td>0</td>\n",
              "      <td>0</td>\n",
              "      <td>1</td>\n",
              "      <td>0.115423</td>\n",
              "      <td>0.001275</td>\n",
              "      <td>0</td>\n",
              "      <td>0</td>\n",
              "      <td>2</td>\n",
              "      <td>0</td>\n",
              "      <td>1</td>\n",
              "    </tr>\n",
              "    <tr>\n",
              "      <th>1</th>\n",
              "      <td>0</td>\n",
              "      <td>0</td>\n",
              "      <td>0</td>\n",
              "      <td>0.464789</td>\n",
              "      <td>1</td>\n",
              "      <td>0</td>\n",
              "      <td>1</td>\n",
              "      <td>0</td>\n",
              "      <td>1</td>\n",
              "      <td>0</td>\n",
              "      <td>0</td>\n",
              "      <td>0</td>\n",
              "      <td>0</td>\n",
              "      <td>0.385075</td>\n",
              "      <td>0.215867</td>\n",
              "      <td>0</td>\n",
              "      <td>1</td>\n",
              "      <td>3</td>\n",
              "      <td>1</td>\n",
              "      <td>1</td>\n",
              "    </tr>\n",
              "    <tr>\n",
              "      <th>2</th>\n",
              "      <td>0</td>\n",
              "      <td>0</td>\n",
              "      <td>0</td>\n",
              "      <td>0.014085</td>\n",
              "      <td>1</td>\n",
              "      <td>0</td>\n",
              "      <td>1</td>\n",
              "      <td>1</td>\n",
              "      <td>0</td>\n",
              "      <td>0</td>\n",
              "      <td>0</td>\n",
              "      <td>0</td>\n",
              "      <td>1</td>\n",
              "      <td>0.354229</td>\n",
              "      <td>0.010310</td>\n",
              "      <td>1</td>\n",
              "      <td>0</td>\n",
              "      <td>3</td>\n",
              "      <td>1</td>\n",
              "      <td>1</td>\n",
              "    </tr>\n",
              "    <tr>\n",
              "      <th>3</th>\n",
              "      <td>0</td>\n",
              "      <td>0</td>\n",
              "      <td>0</td>\n",
              "      <td>0.619718</td>\n",
              "      <td>0</td>\n",
              "      <td>0</td>\n",
              "      <td>1</td>\n",
              "      <td>0</td>\n",
              "      <td>1</td>\n",
              "      <td>1</td>\n",
              "      <td>0</td>\n",
              "      <td>0</td>\n",
              "      <td>0</td>\n",
              "      <td>0.239303</td>\n",
              "      <td>0.210241</td>\n",
              "      <td>0</td>\n",
              "      <td>1</td>\n",
              "      <td>0</td>\n",
              "      <td>1</td>\n",
              "      <td>1</td>\n",
              "    </tr>\n",
              "    <tr>\n",
              "      <th>4</th>\n",
              "      <td>0</td>\n",
              "      <td>0</td>\n",
              "      <td>0</td>\n",
              "      <td>0.014085</td>\n",
              "      <td>1</td>\n",
              "      <td>0</td>\n",
              "      <td>0</td>\n",
              "      <td>0</td>\n",
              "      <td>0</td>\n",
              "      <td>0</td>\n",
              "      <td>0</td>\n",
              "      <td>0</td>\n",
              "      <td>1</td>\n",
              "      <td>0.521891</td>\n",
              "      <td>0.015330</td>\n",
              "      <td>1</td>\n",
              "      <td>0</td>\n",
              "      <td>2</td>\n",
              "      <td>0</td>\n",
              "      <td>2</td>\n",
              "    </tr>\n",
              "    <tr>\n",
              "      <th>...</th>\n",
              "      <td>...</td>\n",
              "      <td>...</td>\n",
              "      <td>...</td>\n",
              "      <td>...</td>\n",
              "      <td>...</td>\n",
              "      <td>...</td>\n",
              "      <td>...</td>\n",
              "      <td>...</td>\n",
              "      <td>...</td>\n",
              "      <td>...</td>\n",
              "      <td>...</td>\n",
              "      <td>...</td>\n",
              "      <td>...</td>\n",
              "      <td>...</td>\n",
              "      <td>...</td>\n",
              "      <td>...</td>\n",
              "      <td>...</td>\n",
              "      <td>...</td>\n",
              "      <td>...</td>\n",
              "      <td>...</td>\n",
              "    </tr>\n",
              "    <tr>\n",
              "      <th>7038</th>\n",
              "      <td>0</td>\n",
              "      <td>1</td>\n",
              "      <td>1</td>\n",
              "      <td>0.323944</td>\n",
              "      <td>1</td>\n",
              "      <td>1</td>\n",
              "      <td>1</td>\n",
              "      <td>0</td>\n",
              "      <td>1</td>\n",
              "      <td>1</td>\n",
              "      <td>1</td>\n",
              "      <td>1</td>\n",
              "      <td>1</td>\n",
              "      <td>0.662189</td>\n",
              "      <td>0.227521</td>\n",
              "      <td>0</td>\n",
              "      <td>1</td>\n",
              "      <td>3</td>\n",
              "      <td>1</td>\n",
              "      <td>1</td>\n",
              "    </tr>\n",
              "    <tr>\n",
              "      <th>7039</th>\n",
              "      <td>0</td>\n",
              "      <td>1</td>\n",
              "      <td>1</td>\n",
              "      <td>1.000000</td>\n",
              "      <td>1</td>\n",
              "      <td>1</td>\n",
              "      <td>0</td>\n",
              "      <td>1</td>\n",
              "      <td>1</td>\n",
              "      <td>0</td>\n",
              "      <td>1</td>\n",
              "      <td>1</td>\n",
              "      <td>1</td>\n",
              "      <td>0.845274</td>\n",
              "      <td>0.847461</td>\n",
              "      <td>0</td>\n",
              "      <td>1</td>\n",
              "      <td>1</td>\n",
              "      <td>0</td>\n",
              "      <td>2</td>\n",
              "    </tr>\n",
              "    <tr>\n",
              "      <th>7040</th>\n",
              "      <td>0</td>\n",
              "      <td>1</td>\n",
              "      <td>1</td>\n",
              "      <td>0.140845</td>\n",
              "      <td>0</td>\n",
              "      <td>0</td>\n",
              "      <td>1</td>\n",
              "      <td>0</td>\n",
              "      <td>0</td>\n",
              "      <td>0</td>\n",
              "      <td>0</td>\n",
              "      <td>0</td>\n",
              "      <td>1</td>\n",
              "      <td>0.112935</td>\n",
              "      <td>0.037809</td>\n",
              "      <td>0</td>\n",
              "      <td>0</td>\n",
              "      <td>2</td>\n",
              "      <td>0</td>\n",
              "      <td>1</td>\n",
              "    </tr>\n",
              "    <tr>\n",
              "      <th>7041</th>\n",
              "      <td>1</td>\n",
              "      <td>1</td>\n",
              "      <td>0</td>\n",
              "      <td>0.042254</td>\n",
              "      <td>1</td>\n",
              "      <td>1</td>\n",
              "      <td>0</td>\n",
              "      <td>0</td>\n",
              "      <td>0</td>\n",
              "      <td>0</td>\n",
              "      <td>0</td>\n",
              "      <td>0</td>\n",
              "      <td>1</td>\n",
              "      <td>0.558706</td>\n",
              "      <td>0.033210</td>\n",
              "      <td>1</td>\n",
              "      <td>0</td>\n",
              "      <td>3</td>\n",
              "      <td>1</td>\n",
              "      <td>2</td>\n",
              "    </tr>\n",
              "    <tr>\n",
              "      <th>7042</th>\n",
              "      <td>0</td>\n",
              "      <td>0</td>\n",
              "      <td>0</td>\n",
              "      <td>0.915493</td>\n",
              "      <td>1</td>\n",
              "      <td>0</td>\n",
              "      <td>1</td>\n",
              "      <td>0</td>\n",
              "      <td>1</td>\n",
              "      <td>1</td>\n",
              "      <td>1</td>\n",
              "      <td>1</td>\n",
              "      <td>1</td>\n",
              "      <td>0.869652</td>\n",
              "      <td>0.787641</td>\n",
              "      <td>0</td>\n",
              "      <td>2</td>\n",
              "      <td>0</td>\n",
              "      <td>1</td>\n",
              "      <td>2</td>\n",
              "    </tr>\n",
              "  </tbody>\n",
              "</table>\n",
              "<p>7032 rows × 20 columns</p>\n",
              "</div>\n",
              "    <div class=\"colab-df-buttons\">\n",
              "\n",
              "  <div class=\"colab-df-container\">\n",
              "    <button class=\"colab-df-convert\" onclick=\"convertToInteractive('df-b7241be5-a53d-4dcd-b116-05e310ff76d7')\"\n",
              "            title=\"Convert this dataframe to an interactive table.\"\n",
              "            style=\"display:none;\">\n",
              "\n",
              "  <svg xmlns=\"http://www.w3.org/2000/svg\" height=\"24px\" viewBox=\"0 -960 960 960\">\n",
              "    <path d=\"M120-120v-720h720v720H120Zm60-500h600v-160H180v160Zm220 220h160v-160H400v160Zm0 220h160v-160H400v160ZM180-400h160v-160H180v160Zm440 0h160v-160H620v160ZM180-180h160v-160H180v160Zm440 0h160v-160H620v160Z\"/>\n",
              "  </svg>\n",
              "    </button>\n",
              "\n",
              "  <style>\n",
              "    .colab-df-container {\n",
              "      display:flex;\n",
              "      gap: 12px;\n",
              "    }\n",
              "\n",
              "    .colab-df-convert {\n",
              "      background-color: #E8F0FE;\n",
              "      border: none;\n",
              "      border-radius: 50%;\n",
              "      cursor: pointer;\n",
              "      display: none;\n",
              "      fill: #1967D2;\n",
              "      height: 32px;\n",
              "      padding: 0 0 0 0;\n",
              "      width: 32px;\n",
              "    }\n",
              "\n",
              "    .colab-df-convert:hover {\n",
              "      background-color: #E2EBFA;\n",
              "      box-shadow: 0px 1px 2px rgba(60, 64, 67, 0.3), 0px 1px 3px 1px rgba(60, 64, 67, 0.15);\n",
              "      fill: #174EA6;\n",
              "    }\n",
              "\n",
              "    .colab-df-buttons div {\n",
              "      margin-bottom: 4px;\n",
              "    }\n",
              "\n",
              "    [theme=dark] .colab-df-convert {\n",
              "      background-color: #3B4455;\n",
              "      fill: #D2E3FC;\n",
              "    }\n",
              "\n",
              "    [theme=dark] .colab-df-convert:hover {\n",
              "      background-color: #434B5C;\n",
              "      box-shadow: 0px 1px 3px 1px rgba(0, 0, 0, 0.15);\n",
              "      filter: drop-shadow(0px 1px 2px rgba(0, 0, 0, 0.3));\n",
              "      fill: #FFFFFF;\n",
              "    }\n",
              "  </style>\n",
              "\n",
              "    <script>\n",
              "      const buttonEl =\n",
              "        document.querySelector('#df-b7241be5-a53d-4dcd-b116-05e310ff76d7 button.colab-df-convert');\n",
              "      buttonEl.style.display =\n",
              "        google.colab.kernel.accessAllowed ? 'block' : 'none';\n",
              "\n",
              "      async function convertToInteractive(key) {\n",
              "        const element = document.querySelector('#df-b7241be5-a53d-4dcd-b116-05e310ff76d7');\n",
              "        const dataTable =\n",
              "          await google.colab.kernel.invokeFunction('convertToInteractive',\n",
              "                                                    [key], {});\n",
              "        if (!dataTable) return;\n",
              "\n",
              "        const docLinkHtml = 'Like what you see? Visit the ' +\n",
              "          '<a target=\"_blank\" href=https://colab.research.google.com/notebooks/data_table.ipynb>data table notebook</a>'\n",
              "          + ' to learn more about interactive tables.';\n",
              "        element.innerHTML = '';\n",
              "        dataTable['output_type'] = 'display_data';\n",
              "        await google.colab.output.renderOutput(dataTable, element);\n",
              "        const docLink = document.createElement('div');\n",
              "        docLink.innerHTML = docLinkHtml;\n",
              "        element.appendChild(docLink);\n",
              "      }\n",
              "    </script>\n",
              "  </div>\n",
              "\n",
              "\n",
              "<div id=\"df-e50c8035-edab-4b59-b013-c3cf312e50b8\">\n",
              "  <button class=\"colab-df-quickchart\" onclick=\"quickchart('df-e50c8035-edab-4b59-b013-c3cf312e50b8')\"\n",
              "            title=\"Suggest charts.\"\n",
              "            style=\"display:none;\">\n",
              "\n",
              "<svg xmlns=\"http://www.w3.org/2000/svg\" height=\"24px\"viewBox=\"0 0 24 24\"\n",
              "     width=\"24px\">\n",
              "    <g>\n",
              "        <path d=\"M19 3H5c-1.1 0-2 .9-2 2v14c0 1.1.9 2 2 2h14c1.1 0 2-.9 2-2V5c0-1.1-.9-2-2-2zM9 17H7v-7h2v7zm4 0h-2V7h2v10zm4 0h-2v-4h2v4z\"/>\n",
              "    </g>\n",
              "</svg>\n",
              "  </button>\n",
              "\n",
              "<style>\n",
              "  .colab-df-quickchart {\n",
              "    background-color: #E8F0FE;\n",
              "    border: none;\n",
              "    border-radius: 50%;\n",
              "    cursor: pointer;\n",
              "    display: none;\n",
              "    fill: #1967D2;\n",
              "    height: 32px;\n",
              "    padding: 0 0 0 0;\n",
              "    width: 32px;\n",
              "  }\n",
              "\n",
              "  .colab-df-quickchart:hover {\n",
              "    background-color: #E2EBFA;\n",
              "    box-shadow: 0px 1px 2px rgba(60, 64, 67, 0.3), 0px 1px 3px 1px rgba(60, 64, 67, 0.15);\n",
              "    fill: #174EA6;\n",
              "  }\n",
              "\n",
              "  [theme=dark] .colab-df-quickchart {\n",
              "    background-color: #3B4455;\n",
              "    fill: #D2E3FC;\n",
              "  }\n",
              "\n",
              "  [theme=dark] .colab-df-quickchart:hover {\n",
              "    background-color: #434B5C;\n",
              "    box-shadow: 0px 1px 3px 1px rgba(0, 0, 0, 0.15);\n",
              "    filter: drop-shadow(0px 1px 2px rgba(0, 0, 0, 0.3));\n",
              "    fill: #FFFFFF;\n",
              "  }\n",
              "</style>\n",
              "\n",
              "  <script>\n",
              "    async function quickchart(key) {\n",
              "      const charts = await google.colab.kernel.invokeFunction(\n",
              "          'suggestCharts', [key], {});\n",
              "    }\n",
              "    (() => {\n",
              "      let quickchartButtonEl =\n",
              "        document.querySelector('#df-e50c8035-edab-4b59-b013-c3cf312e50b8 button');\n",
              "      quickchartButtonEl.style.display =\n",
              "        google.colab.kernel.accessAllowed ? 'block' : 'none';\n",
              "    })();\n",
              "  </script>\n",
              "</div>\n",
              "    </div>\n",
              "  </div>\n"
            ]
          },
          "metadata": {},
          "execution_count": 76
        }
      ],
      "source": [
        "# We can also enter a list of columns to MinMaxScaler()\n",
        "cols_to_scale = ['tenure','MonthlyCharges','TotalCharges']\n",
        "\n",
        "from sklearn.preprocessing import MinMaxScaler\n",
        "scaler = MinMaxScaler()\n",
        "data[cols_to_scale] = scaler.fit_transform(data[cols_to_scale])\n",
        "\n",
        "data"
      ]
    },
    {
      "cell_type": "code",
      "execution_count": 77,
      "id": "5b88cdd5",
      "metadata": {
        "id": "5b88cdd5"
      },
      "outputs": [],
      "source": [
        "def x_y_split(data):\n",
        "    x = data.drop(['Churn'] , axis = 1)\n",
        "    y = data['Churn']\n",
        "\n",
        "    return x,y\n",
        "\n",
        "x , y =   x_y_split(data)"
      ]
    },
    {
      "cell_type": "code",
      "execution_count": 78,
      "id": "5fa0d9b7",
      "metadata": {
        "scrolled": true,
        "colab": {
          "base_uri": "https://localhost:8080/",
          "height": 439
        },
        "id": "5fa0d9b7",
        "outputId": "e4d4c255-788f-44cc-b613-3bc84ee70549"
      },
      "outputs": [
        {
          "output_type": "execute_result",
          "data": {
            "text/plain": [
              "      SeniorCitizen  Partner  Dependents    tenure  PhoneService  \\\n",
              "0                 0        1           0  0.000000             0   \n",
              "1                 0        0           0  0.464789             1   \n",
              "2                 0        0           0  0.014085             1   \n",
              "3                 0        0           0  0.619718             0   \n",
              "4                 0        0           0  0.014085             1   \n",
              "...             ...      ...         ...       ...           ...   \n",
              "7038              0        1           1  0.323944             1   \n",
              "7039              0        1           1  1.000000             1   \n",
              "7040              0        1           1  0.140845             0   \n",
              "7041              1        1           0  0.042254             1   \n",
              "7042              0        0           0  0.915493             1   \n",
              "\n",
              "      MultipleLines  OnlineSecurity  OnlineBackup  DeviceProtection  \\\n",
              "0                 0               0             1                 0   \n",
              "1                 0               1             0                 1   \n",
              "2                 0               1             1                 0   \n",
              "3                 0               1             0                 1   \n",
              "4                 0               0             0                 0   \n",
              "...             ...             ...           ...               ...   \n",
              "7038              1               1             0                 1   \n",
              "7039              1               0             1                 1   \n",
              "7040              0               1             0                 0   \n",
              "7041              1               0             0                 0   \n",
              "7042              0               1             0                 1   \n",
              "\n",
              "      TechSupport  StreamingTV  StreamingMovies  PaperlessBilling  \\\n",
              "0               0            0                0                 1   \n",
              "1               0            0                0                 0   \n",
              "2               0            0                0                 1   \n",
              "3               1            0                0                 0   \n",
              "4               0            0                0                 1   \n",
              "...           ...          ...              ...               ...   \n",
              "7038            1            1                1                 1   \n",
              "7039            0            1                1                 1   \n",
              "7040            0            0                0                 1   \n",
              "7041            0            0                0                 1   \n",
              "7042            1            1                1                 1   \n",
              "\n",
              "      MonthlyCharges  TotalCharges  Contract_encoded  PaymentMethod_encoded  \\\n",
              "0           0.115423      0.001275                 0                      2   \n",
              "1           0.385075      0.215867                 1                      3   \n",
              "2           0.354229      0.010310                 0                      3   \n",
              "3           0.239303      0.210241                 1                      0   \n",
              "4           0.521891      0.015330                 0                      2   \n",
              "...              ...           ...               ...                    ...   \n",
              "7038        0.662189      0.227521                 1                      3   \n",
              "7039        0.845274      0.847461                 1                      1   \n",
              "7040        0.112935      0.037809                 0                      2   \n",
              "7041        0.558706      0.033210                 0                      3   \n",
              "7042        0.869652      0.787641                 2                      0   \n",
              "\n",
              "      gender_encoded  InternetService_encoded  \n",
              "0                  0                        1  \n",
              "1                  1                        1  \n",
              "2                  1                        1  \n",
              "3                  1                        1  \n",
              "4                  0                        2  \n",
              "...              ...                      ...  \n",
              "7038               1                        1  \n",
              "7039               0                        2  \n",
              "7040               0                        1  \n",
              "7041               1                        2  \n",
              "7042               1                        2  \n",
              "\n",
              "[7032 rows x 19 columns]"
            ],
            "text/html": [
              "\n",
              "  <div id=\"df-0f395f33-79a5-4881-a4ab-42846519a04b\" class=\"colab-df-container\">\n",
              "    <div>\n",
              "<style scoped>\n",
              "    .dataframe tbody tr th:only-of-type {\n",
              "        vertical-align: middle;\n",
              "    }\n",
              "\n",
              "    .dataframe tbody tr th {\n",
              "        vertical-align: top;\n",
              "    }\n",
              "\n",
              "    .dataframe thead th {\n",
              "        text-align: right;\n",
              "    }\n",
              "</style>\n",
              "<table border=\"1\" class=\"dataframe\">\n",
              "  <thead>\n",
              "    <tr style=\"text-align: right;\">\n",
              "      <th></th>\n",
              "      <th>SeniorCitizen</th>\n",
              "      <th>Partner</th>\n",
              "      <th>Dependents</th>\n",
              "      <th>tenure</th>\n",
              "      <th>PhoneService</th>\n",
              "      <th>MultipleLines</th>\n",
              "      <th>OnlineSecurity</th>\n",
              "      <th>OnlineBackup</th>\n",
              "      <th>DeviceProtection</th>\n",
              "      <th>TechSupport</th>\n",
              "      <th>StreamingTV</th>\n",
              "      <th>StreamingMovies</th>\n",
              "      <th>PaperlessBilling</th>\n",
              "      <th>MonthlyCharges</th>\n",
              "      <th>TotalCharges</th>\n",
              "      <th>Contract_encoded</th>\n",
              "      <th>PaymentMethod_encoded</th>\n",
              "      <th>gender_encoded</th>\n",
              "      <th>InternetService_encoded</th>\n",
              "    </tr>\n",
              "  </thead>\n",
              "  <tbody>\n",
              "    <tr>\n",
              "      <th>0</th>\n",
              "      <td>0</td>\n",
              "      <td>1</td>\n",
              "      <td>0</td>\n",
              "      <td>0.000000</td>\n",
              "      <td>0</td>\n",
              "      <td>0</td>\n",
              "      <td>0</td>\n",
              "      <td>1</td>\n",
              "      <td>0</td>\n",
              "      <td>0</td>\n",
              "      <td>0</td>\n",
              "      <td>0</td>\n",
              "      <td>1</td>\n",
              "      <td>0.115423</td>\n",
              "      <td>0.001275</td>\n",
              "      <td>0</td>\n",
              "      <td>2</td>\n",
              "      <td>0</td>\n",
              "      <td>1</td>\n",
              "    </tr>\n",
              "    <tr>\n",
              "      <th>1</th>\n",
              "      <td>0</td>\n",
              "      <td>0</td>\n",
              "      <td>0</td>\n",
              "      <td>0.464789</td>\n",
              "      <td>1</td>\n",
              "      <td>0</td>\n",
              "      <td>1</td>\n",
              "      <td>0</td>\n",
              "      <td>1</td>\n",
              "      <td>0</td>\n",
              "      <td>0</td>\n",
              "      <td>0</td>\n",
              "      <td>0</td>\n",
              "      <td>0.385075</td>\n",
              "      <td>0.215867</td>\n",
              "      <td>1</td>\n",
              "      <td>3</td>\n",
              "      <td>1</td>\n",
              "      <td>1</td>\n",
              "    </tr>\n",
              "    <tr>\n",
              "      <th>2</th>\n",
              "      <td>0</td>\n",
              "      <td>0</td>\n",
              "      <td>0</td>\n",
              "      <td>0.014085</td>\n",
              "      <td>1</td>\n",
              "      <td>0</td>\n",
              "      <td>1</td>\n",
              "      <td>1</td>\n",
              "      <td>0</td>\n",
              "      <td>0</td>\n",
              "      <td>0</td>\n",
              "      <td>0</td>\n",
              "      <td>1</td>\n",
              "      <td>0.354229</td>\n",
              "      <td>0.010310</td>\n",
              "      <td>0</td>\n",
              "      <td>3</td>\n",
              "      <td>1</td>\n",
              "      <td>1</td>\n",
              "    </tr>\n",
              "    <tr>\n",
              "      <th>3</th>\n",
              "      <td>0</td>\n",
              "      <td>0</td>\n",
              "      <td>0</td>\n",
              "      <td>0.619718</td>\n",
              "      <td>0</td>\n",
              "      <td>0</td>\n",
              "      <td>1</td>\n",
              "      <td>0</td>\n",
              "      <td>1</td>\n",
              "      <td>1</td>\n",
              "      <td>0</td>\n",
              "      <td>0</td>\n",
              "      <td>0</td>\n",
              "      <td>0.239303</td>\n",
              "      <td>0.210241</td>\n",
              "      <td>1</td>\n",
              "      <td>0</td>\n",
              "      <td>1</td>\n",
              "      <td>1</td>\n",
              "    </tr>\n",
              "    <tr>\n",
              "      <th>4</th>\n",
              "      <td>0</td>\n",
              "      <td>0</td>\n",
              "      <td>0</td>\n",
              "      <td>0.014085</td>\n",
              "      <td>1</td>\n",
              "      <td>0</td>\n",
              "      <td>0</td>\n",
              "      <td>0</td>\n",
              "      <td>0</td>\n",
              "      <td>0</td>\n",
              "      <td>0</td>\n",
              "      <td>0</td>\n",
              "      <td>1</td>\n",
              "      <td>0.521891</td>\n",
              "      <td>0.015330</td>\n",
              "      <td>0</td>\n",
              "      <td>2</td>\n",
              "      <td>0</td>\n",
              "      <td>2</td>\n",
              "    </tr>\n",
              "    <tr>\n",
              "      <th>...</th>\n",
              "      <td>...</td>\n",
              "      <td>...</td>\n",
              "      <td>...</td>\n",
              "      <td>...</td>\n",
              "      <td>...</td>\n",
              "      <td>...</td>\n",
              "      <td>...</td>\n",
              "      <td>...</td>\n",
              "      <td>...</td>\n",
              "      <td>...</td>\n",
              "      <td>...</td>\n",
              "      <td>...</td>\n",
              "      <td>...</td>\n",
              "      <td>...</td>\n",
              "      <td>...</td>\n",
              "      <td>...</td>\n",
              "      <td>...</td>\n",
              "      <td>...</td>\n",
              "      <td>...</td>\n",
              "    </tr>\n",
              "    <tr>\n",
              "      <th>7038</th>\n",
              "      <td>0</td>\n",
              "      <td>1</td>\n",
              "      <td>1</td>\n",
              "      <td>0.323944</td>\n",
              "      <td>1</td>\n",
              "      <td>1</td>\n",
              "      <td>1</td>\n",
              "      <td>0</td>\n",
              "      <td>1</td>\n",
              "      <td>1</td>\n",
              "      <td>1</td>\n",
              "      <td>1</td>\n",
              "      <td>1</td>\n",
              "      <td>0.662189</td>\n",
              "      <td>0.227521</td>\n",
              "      <td>1</td>\n",
              "      <td>3</td>\n",
              "      <td>1</td>\n",
              "      <td>1</td>\n",
              "    </tr>\n",
              "    <tr>\n",
              "      <th>7039</th>\n",
              "      <td>0</td>\n",
              "      <td>1</td>\n",
              "      <td>1</td>\n",
              "      <td>1.000000</td>\n",
              "      <td>1</td>\n",
              "      <td>1</td>\n",
              "      <td>0</td>\n",
              "      <td>1</td>\n",
              "      <td>1</td>\n",
              "      <td>0</td>\n",
              "      <td>1</td>\n",
              "      <td>1</td>\n",
              "      <td>1</td>\n",
              "      <td>0.845274</td>\n",
              "      <td>0.847461</td>\n",
              "      <td>1</td>\n",
              "      <td>1</td>\n",
              "      <td>0</td>\n",
              "      <td>2</td>\n",
              "    </tr>\n",
              "    <tr>\n",
              "      <th>7040</th>\n",
              "      <td>0</td>\n",
              "      <td>1</td>\n",
              "      <td>1</td>\n",
              "      <td>0.140845</td>\n",
              "      <td>0</td>\n",
              "      <td>0</td>\n",
              "      <td>1</td>\n",
              "      <td>0</td>\n",
              "      <td>0</td>\n",
              "      <td>0</td>\n",
              "      <td>0</td>\n",
              "      <td>0</td>\n",
              "      <td>1</td>\n",
              "      <td>0.112935</td>\n",
              "      <td>0.037809</td>\n",
              "      <td>0</td>\n",
              "      <td>2</td>\n",
              "      <td>0</td>\n",
              "      <td>1</td>\n",
              "    </tr>\n",
              "    <tr>\n",
              "      <th>7041</th>\n",
              "      <td>1</td>\n",
              "      <td>1</td>\n",
              "      <td>0</td>\n",
              "      <td>0.042254</td>\n",
              "      <td>1</td>\n",
              "      <td>1</td>\n",
              "      <td>0</td>\n",
              "      <td>0</td>\n",
              "      <td>0</td>\n",
              "      <td>0</td>\n",
              "      <td>0</td>\n",
              "      <td>0</td>\n",
              "      <td>1</td>\n",
              "      <td>0.558706</td>\n",
              "      <td>0.033210</td>\n",
              "      <td>0</td>\n",
              "      <td>3</td>\n",
              "      <td>1</td>\n",
              "      <td>2</td>\n",
              "    </tr>\n",
              "    <tr>\n",
              "      <th>7042</th>\n",
              "      <td>0</td>\n",
              "      <td>0</td>\n",
              "      <td>0</td>\n",
              "      <td>0.915493</td>\n",
              "      <td>1</td>\n",
              "      <td>0</td>\n",
              "      <td>1</td>\n",
              "      <td>0</td>\n",
              "      <td>1</td>\n",
              "      <td>1</td>\n",
              "      <td>1</td>\n",
              "      <td>1</td>\n",
              "      <td>1</td>\n",
              "      <td>0.869652</td>\n",
              "      <td>0.787641</td>\n",
              "      <td>2</td>\n",
              "      <td>0</td>\n",
              "      <td>1</td>\n",
              "      <td>2</td>\n",
              "    </tr>\n",
              "  </tbody>\n",
              "</table>\n",
              "<p>7032 rows × 19 columns</p>\n",
              "</div>\n",
              "    <div class=\"colab-df-buttons\">\n",
              "\n",
              "  <div class=\"colab-df-container\">\n",
              "    <button class=\"colab-df-convert\" onclick=\"convertToInteractive('df-0f395f33-79a5-4881-a4ab-42846519a04b')\"\n",
              "            title=\"Convert this dataframe to an interactive table.\"\n",
              "            style=\"display:none;\">\n",
              "\n",
              "  <svg xmlns=\"http://www.w3.org/2000/svg\" height=\"24px\" viewBox=\"0 -960 960 960\">\n",
              "    <path d=\"M120-120v-720h720v720H120Zm60-500h600v-160H180v160Zm220 220h160v-160H400v160Zm0 220h160v-160H400v160ZM180-400h160v-160H180v160Zm440 0h160v-160H620v160ZM180-180h160v-160H180v160Zm440 0h160v-160H620v160Z\"/>\n",
              "  </svg>\n",
              "    </button>\n",
              "\n",
              "  <style>\n",
              "    .colab-df-container {\n",
              "      display:flex;\n",
              "      gap: 12px;\n",
              "    }\n",
              "\n",
              "    .colab-df-convert {\n",
              "      background-color: #E8F0FE;\n",
              "      border: none;\n",
              "      border-radius: 50%;\n",
              "      cursor: pointer;\n",
              "      display: none;\n",
              "      fill: #1967D2;\n",
              "      height: 32px;\n",
              "      padding: 0 0 0 0;\n",
              "      width: 32px;\n",
              "    }\n",
              "\n",
              "    .colab-df-convert:hover {\n",
              "      background-color: #E2EBFA;\n",
              "      box-shadow: 0px 1px 2px rgba(60, 64, 67, 0.3), 0px 1px 3px 1px rgba(60, 64, 67, 0.15);\n",
              "      fill: #174EA6;\n",
              "    }\n",
              "\n",
              "    .colab-df-buttons div {\n",
              "      margin-bottom: 4px;\n",
              "    }\n",
              "\n",
              "    [theme=dark] .colab-df-convert {\n",
              "      background-color: #3B4455;\n",
              "      fill: #D2E3FC;\n",
              "    }\n",
              "\n",
              "    [theme=dark] .colab-df-convert:hover {\n",
              "      background-color: #434B5C;\n",
              "      box-shadow: 0px 1px 3px 1px rgba(0, 0, 0, 0.15);\n",
              "      filter: drop-shadow(0px 1px 2px rgba(0, 0, 0, 0.3));\n",
              "      fill: #FFFFFF;\n",
              "    }\n",
              "  </style>\n",
              "\n",
              "    <script>\n",
              "      const buttonEl =\n",
              "        document.querySelector('#df-0f395f33-79a5-4881-a4ab-42846519a04b button.colab-df-convert');\n",
              "      buttonEl.style.display =\n",
              "        google.colab.kernel.accessAllowed ? 'block' : 'none';\n",
              "\n",
              "      async function convertToInteractive(key) {\n",
              "        const element = document.querySelector('#df-0f395f33-79a5-4881-a4ab-42846519a04b');\n",
              "        const dataTable =\n",
              "          await google.colab.kernel.invokeFunction('convertToInteractive',\n",
              "                                                    [key], {});\n",
              "        if (!dataTable) return;\n",
              "\n",
              "        const docLinkHtml = 'Like what you see? Visit the ' +\n",
              "          '<a target=\"_blank\" href=https://colab.research.google.com/notebooks/data_table.ipynb>data table notebook</a>'\n",
              "          + ' to learn more about interactive tables.';\n",
              "        element.innerHTML = '';\n",
              "        dataTable['output_type'] = 'display_data';\n",
              "        await google.colab.output.renderOutput(dataTable, element);\n",
              "        const docLink = document.createElement('div');\n",
              "        docLink.innerHTML = docLinkHtml;\n",
              "        element.appendChild(docLink);\n",
              "      }\n",
              "    </script>\n",
              "  </div>\n",
              "\n",
              "\n",
              "<div id=\"df-c494be3c-fb5b-4977-a66a-b2670058c29e\">\n",
              "  <button class=\"colab-df-quickchart\" onclick=\"quickchart('df-c494be3c-fb5b-4977-a66a-b2670058c29e')\"\n",
              "            title=\"Suggest charts.\"\n",
              "            style=\"display:none;\">\n",
              "\n",
              "<svg xmlns=\"http://www.w3.org/2000/svg\" height=\"24px\"viewBox=\"0 0 24 24\"\n",
              "     width=\"24px\">\n",
              "    <g>\n",
              "        <path d=\"M19 3H5c-1.1 0-2 .9-2 2v14c0 1.1.9 2 2 2h14c1.1 0 2-.9 2-2V5c0-1.1-.9-2-2-2zM9 17H7v-7h2v7zm4 0h-2V7h2v10zm4 0h-2v-4h2v4z\"/>\n",
              "    </g>\n",
              "</svg>\n",
              "  </button>\n",
              "\n",
              "<style>\n",
              "  .colab-df-quickchart {\n",
              "    background-color: #E8F0FE;\n",
              "    border: none;\n",
              "    border-radius: 50%;\n",
              "    cursor: pointer;\n",
              "    display: none;\n",
              "    fill: #1967D2;\n",
              "    height: 32px;\n",
              "    padding: 0 0 0 0;\n",
              "    width: 32px;\n",
              "  }\n",
              "\n",
              "  .colab-df-quickchart:hover {\n",
              "    background-color: #E2EBFA;\n",
              "    box-shadow: 0px 1px 2px rgba(60, 64, 67, 0.3), 0px 1px 3px 1px rgba(60, 64, 67, 0.15);\n",
              "    fill: #174EA6;\n",
              "  }\n",
              "\n",
              "  [theme=dark] .colab-df-quickchart {\n",
              "    background-color: #3B4455;\n",
              "    fill: #D2E3FC;\n",
              "  }\n",
              "\n",
              "  [theme=dark] .colab-df-quickchart:hover {\n",
              "    background-color: #434B5C;\n",
              "    box-shadow: 0px 1px 3px 1px rgba(0, 0, 0, 0.15);\n",
              "    filter: drop-shadow(0px 1px 2px rgba(0, 0, 0, 0.3));\n",
              "    fill: #FFFFFF;\n",
              "  }\n",
              "</style>\n",
              "\n",
              "  <script>\n",
              "    async function quickchart(key) {\n",
              "      const charts = await google.colab.kernel.invokeFunction(\n",
              "          'suggestCharts', [key], {});\n",
              "    }\n",
              "    (() => {\n",
              "      let quickchartButtonEl =\n",
              "        document.querySelector('#df-c494be3c-fb5b-4977-a66a-b2670058c29e button');\n",
              "      quickchartButtonEl.style.display =\n",
              "        google.colab.kernel.accessAllowed ? 'block' : 'none';\n",
              "    })();\n",
              "  </script>\n",
              "</div>\n",
              "    </div>\n",
              "  </div>\n"
            ]
          },
          "metadata": {},
          "execution_count": 78
        }
      ],
      "source": [
        "x"
      ]
    },
    {
      "cell_type": "code",
      "execution_count": 79,
      "id": "931e8959",
      "metadata": {
        "colab": {
          "base_uri": "https://localhost:8080/"
        },
        "id": "931e8959",
        "outputId": "6e3e2ac9-927c-4d1a-a821-257b866379c5"
      },
      "outputs": [
        {
          "output_type": "execute_result",
          "data": {
            "text/plain": [
              "(0.7883522727272727, 0.6466666666666666, 0.565597667638484)"
            ]
          },
          "metadata": {},
          "execution_count": 79
        }
      ],
      "source": [
        "def get_Score(x,y):\n",
        "    x_train , x_test , y_train , y_test = train_test_split(x,y,\n",
        "                                                         test_size = 0.1,\n",
        "                                                         random_state = 42)\n",
        "\n",
        "    from sklearn.linear_model import LogisticRegression\n",
        "    LogisticRegression = LogisticRegression()\n",
        "    LogisticRegression.fit(x_train,y_train)\n",
        "    y_pred = LogisticRegression.predict(x_test)\n",
        "\n",
        "    from sklearn.metrics import accuracy_score, precision_score, f1_score\n",
        "    accuracy = accuracy_score(y_test, y_pred)\n",
        "    precision = precision_score(y_test, y_pred)\n",
        "    f1 = f1_score(y_test, y_pred)\n",
        "\n",
        "    return accuracy , precision , f1\n",
        "\n",
        "get_Score(x,y)"
      ]
    },
    {
      "cell_type": "code",
      "execution_count": 80,
      "id": "70759bdc",
      "metadata": {
        "id": "70759bdc"
      },
      "outputs": [],
      "source": [
        "# X_columns = x.columns\n",
        "# from sklearn.preprocessing import StandardScaler\n",
        "# ss = StandardScaler()\n",
        "# x = ss.fit_transform(x)\n",
        "# x = pd.DataFrame(x,columns = X_columns)\n",
        "# x"
      ]
    },
    {
      "cell_type": "code",
      "execution_count": 81,
      "id": "6aafe23d",
      "metadata": {
        "id": "6aafe23d"
      },
      "outputs": [],
      "source": [
        "# from sklearn.decomposition import PCA\n",
        "\n",
        "# pca = PCA(1)  # this parameter indicate amount of data needed to be retainted\n",
        "# x = pca.fit_transform(x)\n",
        "# x.shape"
      ]
    },
    {
      "cell_type": "code",
      "execution_count": 82,
      "id": "cb21cadd",
      "metadata": {
        "scrolled": false,
        "colab": {
          "base_uri": "https://localhost:8080/",
          "height": 554
        },
        "id": "cb21cadd",
        "outputId": "f869c2e3-54b0-4147-9156-9b60b59ef560"
      },
      "outputs": [
        {
          "output_type": "stream",
          "name": "stderr",
          "text": [
            "/usr/local/lib/python3.10/dist-packages/sklearn/metrics/_classification.py:1344: UndefinedMetricWarning: Precision is ill-defined and being set to 0.0 due to no predicted samples. Use `zero_division` parameter to control this behavior.\n",
            "  _warn_prf(average, modifier, msg_start, len(result))\n",
            "/usr/local/lib/python3.10/dist-packages/sklearn/metrics/_classification.py:1344: UndefinedMetricWarning: Precision is ill-defined and being set to 0.0 due to no predicted samples. Use `zero_division` parameter to control this behavior.\n",
            "  _warn_prf(average, modifier, msg_start, len(result))\n"
          ]
        },
        {
          "output_type": "display_data",
          "data": {
            "text/plain": [
              "<Figure size 640x480 with 1 Axes>"
            ],
            "image/png": "[encoded data removed]"
          },
          "metadata": {}
        },
        {
          "output_type": "stream",
          "name": "stdout",
          "text": [
            "['Contract_encoded', 'tenure', 'InternetService_encoded', 'MonthlyCharges', 'TotalCharges', 'DeviceProtection', 'PaymentMethod_encoded', 'TechSupport', 'StreamingMovies', 'PaperlessBilling', 'OnlineSecurity', 'OnlineBackup', 'MultipleLines', 'Partner', 'Dependents', 'SeniorCitizen', 'PhoneService', 'StreamingTV']\n"
          ]
        }
      ],
      "source": [
        "# def plot_feature_score(feature_scores_df):\n",
        "\n",
        "from sklearn.feature_selection import mutual_info_regression\n",
        "mi_scores = mutual_info_regression(x, y)\n",
        "\n",
        "# Create a DataFrame to store feature scores\n",
        "feature_scores_df = pd.DataFrame({\"Feature\": x.columns, \"Score\": mi_scores})\n",
        "\n",
        "result = {}\n",
        "\n",
        "for i in range(18):\n",
        "\n",
        "\n",
        "    top_k = i+1  # Number of top features you want to retrieve\n",
        "\n",
        "    # Get the indices of the top k features\n",
        "    top_feature_indices = feature_scores_df.nlargest(top_k, \"Score\").index\n",
        "\n",
        "    # Retrieve the feature names of the top k features\n",
        "    top_feature_names = feature_scores_df.loc[top_feature_indices, \"Feature\"].tolist()\n",
        "\n",
        "    x = data[top_feature_names]\n",
        "    y = y\n",
        "    score = get_Score(x,y)\n",
        "    score = score[0]\n",
        "\n",
        "    result[top_k] = score\n",
        "\n",
        "feature = list(result.keys())\n",
        "score = list(result.values())\n",
        "\n",
        "plt.plot(feature, score)\n",
        "plt.xlabel('Number of Features')\n",
        "plt.ylabel('Score')\n",
        "plt.grid(True)\n",
        "plt.show()\n",
        "print(top_feature_names)"
      ]
    },
    {
      "cell_type": "code",
      "execution_count": 83,
      "id": "3bc5fd86",
      "metadata": {
        "id": "3bc5fd86"
      },
      "outputs": [],
      "source": [
        "# #  As we can see only top 12 features are contributing\n",
        "# top_13_features = ['Contract_encoded', 'tenure', 'InternetService_encoded', 'PaymentMethod_encoded', 'MonthlyCharges', 'TotalCharges', 'TechSupport', 'OnlineSecurity', 'Partner', 'PaperlessBilling', 'StreamingTV', 'SeniorCitizen','DeviceProtection']\n",
        "# x = x[top_13_features]"
      ]
    },
    {
      "cell_type": "code",
      "execution_count": 84,
      "id": "9a3d0a39",
      "metadata": {
        "scrolled": true,
        "id": "9a3d0a39"
      },
      "outputs": [],
      "source": [
        "# With this graph we can say all the features are important"
      ]
    },
    {
      "cell_type": "code",
      "execution_count": 85,
      "id": "87c30f4d",
      "metadata": {
        "id": "87c30f4d"
      },
      "outputs": [],
      "source": [
        "# So now its time for model selection"
      ]
    },
    {
      "cell_type": "code",
      "execution_count": 86,
      "id": "7f4e4620",
      "metadata": {
        "colab": {
          "base_uri": "https://localhost:8080/"
        },
        "id": "7f4e4620",
        "outputId": "b8aff981-2e55-43aa-d226-1acc495fb8ff"
      },
      "outputs": [
        {
          "output_type": "stream",
          "name": "stdout",
          "text": [
            "LogisticRegression() (0.7869318181818182, 0.6968455634081299, 0.734760263619324)\n",
            "SVC() (0.7826704545454546, 0.679400342719244, 0.7316444095312908)\n",
            "DecisionTreeClassifier() (0.7556818181818182, 0.6753191446214372, 0.6897073829037885)\n",
            "RandomForestClassifier() (0.7982954545454546, 0.7014489520700039, 0.7557641061290696)\n"
          ]
        }
      ],
      "source": [
        "train_x , test_x , train_y , test_y = train_test_split(x,y,\n",
        "                                                         test_size = 0.1,\n",
        "                                                         random_state = 42)\n",
        "\n",
        "from sklearn.linear_model import LogisticRegression\n",
        "from sklearn.svm import SVC\n",
        "from sklearn.tree import DecisionTreeClassifier\n",
        "from sklearn.ensemble import RandomForestClassifier\n",
        "from sklearn.metrics import accuracy_score, precision_score, recall_score\n",
        "\n",
        "models = [LogisticRegression(),\n",
        "          SVC(),\n",
        "          DecisionTreeClassifier(),\n",
        "          RandomForestClassifier()]\n",
        "\n",
        "def accurancy_precision_recall(model,train_x , test_x , train_y , test_y):\n",
        "    model.fit(train_x,train_y)\n",
        "    pred = model.predict(test_x)\n",
        "    return accuracy_score(pred, test_y), precision_score(pred, test_y,average='macro'), recall_score(pred, test_y,average='macro')\n",
        "\n",
        "for model in models:\n",
        "    results = accurancy_precision_recall(model,train_x , test_x , train_y , test_y)\n",
        "    print(f\"{model}\", results)"
      ]
    },
    {
      "cell_type": "code",
      "execution_count": 87,
      "id": "b052c923",
      "metadata": {
        "colab": {
          "base_uri": "https://localhost:8080/"
        },
        "id": "b052c923",
        "outputId": "07cb6e83-e481-40d8-bf99-cefc0a200074"
      },
      "outputs": [
        {
          "output_type": "execute_result",
          "data": {
            "text/plain": [
              "(array([0.80383795, 0.8159204 , 0.78876245, 0.80369844, 0.80512091]),\n",
              " array([0.80597015, 0.80881308, 0.78520626, 0.80156472, 0.80440967]),\n",
              " array([0.73987207, 0.73987207, 0.72475107, 0.7083926 , 0.73684211]),\n",
              " array([0.78749112, 0.79317697, 0.77382646, 0.79231863, 0.79871977]))"
            ]
          },
          "metadata": {},
          "execution_count": 87
        }
      ],
      "source": [
        "# Model selection using cross_val_score\n",
        "from sklearn.linear_model import LogisticRegression\n",
        "from sklearn.svm import SVC\n",
        "from sklearn.ensemble import RandomForestClassifier\n",
        "\n",
        "from sklearn.model_selection import cross_val_score\n",
        "lr_score = cross_val_score(LogisticRegression(solver='liblinear',multi_class='ovr'), x, y,cv=5)\n",
        "svc_score = cross_val_score(SVC(gamma='auto'), x, y,cv=5)\n",
        "dtc_score = cross_val_score(DecisionTreeClassifier(),x,y,cv=5)\n",
        "rfc_score = cross_val_score(RandomForestClassifier(n_estimators=200),x, y,cv=5)\n",
        "\n",
        "\n",
        "lr_score , svc_score , dtc_score, rfc_score"
      ]
    },
    {
      "cell_type": "code",
      "execution_count": 88,
      "id": "c20fa0d0",
      "metadata": {
        "id": "c20fa0d0"
      },
      "outputs": [],
      "source": [
        "# This shows simple Logistic Regession model is working very good\n",
        "# But still try something !"
      ]
    },
    {
      "cell_type": "code",
      "execution_count": 89,
      "id": "10ab195c",
      "metadata": {
        "id": "10ab195c"
      },
      "outputs": [],
      "source": [
        "# Best hyperparameters: {'C': 1, 'penalty': 'l2'}\n",
        "# Best accuracy on test set: 0.8069552874378992"
      ]
    },
    {
      "cell_type": "code",
      "execution_count": 90,
      "id": "01d9131c",
      "metadata": {
        "colab": {
          "base_uri": "https://localhost:8080/"
        },
        "id": "01d9131c",
        "outputId": "2f75cfe1-f38b-4245-cc98-c96775839bea"
      },
      "outputs": [
        {
          "output_type": "execute_result",
          "data": {
            "text/plain": [
              "(5163, 1869)"
            ]
          },
          "metadata": {},
          "execution_count": 90
        }
      ],
      "source": [
        "# Class count\n",
        "count_class_0, count_class_1 = data.Churn.value_counts()\n",
        "\n",
        "# Divide by class\n",
        "df_class_0 = data[data['Churn'] == 0]\n",
        "df_class_1 = data[data['Churn'] == 1]\n",
        "\n",
        "count_class_0, count_class_1"
      ]
    },
    {
      "cell_type": "code",
      "execution_count": 91,
      "id": "2ec801d6",
      "metadata": {
        "id": "2ec801d6"
      },
      "outputs": [],
      "source": [
        "# Here we can see there is a imbalace in data"
      ]
    },
    {
      "cell_type": "code",
      "execution_count": 92,
      "id": "74caf3aa",
      "metadata": {
        "id": "74caf3aa"
      },
      "outputs": [],
      "source": [
        "# Undersample 0-class and concat the DataFrames of both class\n",
        "df_class_0_under = df_class_0.sample(count_class_1)\n",
        "df_test_under = pd.concat([df_class_0_under, df_class_1], axis=0)"
      ]
    },
    {
      "cell_type": "code",
      "execution_count": 93,
      "id": "bbd333d9",
      "metadata": {
        "id": "bbd333d9"
      },
      "outputs": [],
      "source": [
        "x_under , y_under = x_y_split(df_test_under)"
      ]
    },
    {
      "cell_type": "code",
      "execution_count": 94,
      "id": "d666783f",
      "metadata": {
        "colab": {
          "base_uri": "https://localhost:8080/"
        },
        "id": "d666783f",
        "outputId": "a5a709c1-9215-46de-d16b-909e1ffb3256"
      },
      "outputs": [
        {
          "output_type": "execute_result",
          "data": {
            "text/plain": [
              "(0.7486631016042781, 0.6851851851851852, 0.7589743589743589)"
            ]
          },
          "metadata": {},
          "execution_count": 94
        }
      ],
      "source": [
        "get_Score(x_under,y_under)"
      ]
    },
    {
      "cell_type": "code",
      "execution_count": 94,
      "id": "a5a74c00",
      "metadata": {
        "id": "a5a74c00"
      },
      "outputs": [],
      "source": []
    },
    {
      "cell_type": "code",
      "execution_count": 95,
      "id": "7c542581",
      "metadata": {
        "id": "7c542581"
      },
      "outputs": [],
      "source": [
        "# Oversample 1-class and concat the DataFrames of both classes\n",
        "df_class_1_over = df_class_1.sample(count_class_0, replace=True)\n",
        "df_test_over = pd.concat([df_class_0, df_class_1_over], axis=0)"
      ]
    },
    {
      "cell_type": "code",
      "execution_count": 96,
      "id": "612d93c1",
      "metadata": {
        "colab": {
          "base_uri": "https://localhost:8080/"
        },
        "id": "612d93c1",
        "outputId": "1d4466bc-1ecd-45dd-dbad-144b8ed88fd8"
      },
      "outputs": [
        {
          "output_type": "execute_result",
          "data": {
            "text/plain": [
              "(0.7734753146176185, 0.7570093457943925, 0.7758620689655172)"
            ]
          },
          "metadata": {},
          "execution_count": 96
        }
      ],
      "source": [
        "x_over , y_over = x_y_split(df_test_over)\n",
        "get_Score(x_over , y_over)"
      ]
    },
    {
      "cell_type": "code",
      "execution_count": 96,
      "id": "5908cbf9",
      "metadata": {
        "id": "5908cbf9"
      },
      "outputs": [],
      "source": []
    },
    {
      "cell_type": "code",
      "execution_count": 97,
      "id": "4a31a99b",
      "metadata": {
        "scrolled": true,
        "colab": {
          "base_uri": "https://localhost:8080/"
        },
        "id": "4a31a99b",
        "outputId": "5b7eb30c-b928-469d-bfac-fb61f5020e44"
      },
      "outputs": [
        {
          "output_type": "stream",
          "name": "stdout",
          "text": [
            "Requirement already satisfied: imbalanced-learn in /usr/local/lib/python3.10/dist-packages (0.10.1)\n",
            "Requirement already satisfied: numpy>=1.17.3 in /usr/local/lib/python3.10/dist-packages (from imbalanced-learn) (1.23.5)\n",
            "Requirement already satisfied: scipy>=1.3.2 in /usr/local/lib/python3.10/dist-packages (from imbalanced-learn) (1.10.1)\n",
            "Requirement already satisfied: scikit-learn>=1.0.2 in /usr/local/lib/python3.10/dist-packages (from imbalanced-learn) (1.2.2)\n",
            "Requirement already satisfied: joblib>=1.1.1 in /usr/local/lib/python3.10/dist-packages (from imbalanced-learn) (1.3.2)\n",
            "Requirement already satisfied: threadpoolctl>=2.0.0 in /usr/local/lib/python3.10/dist-packages (from imbalanced-learn) (3.2.0)\n"
          ]
        }
      ],
      "source": [
        "pip install imbalanced-learn"
      ]
    },
    {
      "cell_type": "code",
      "execution_count": 98,
      "id": "973d74f4",
      "metadata": {
        "id": "973d74f4"
      },
      "outputs": [],
      "source": [
        "# x , y"
      ]
    },
    {
      "cell_type": "code",
      "execution_count": 99,
      "id": "ad84603a",
      "metadata": {
        "colab": {
          "base_uri": "https://localhost:8080/"
        },
        "id": "ad84603a",
        "outputId": "2792205e-e1b6-42b3-cf63-4076b74a1b40"
      },
      "outputs": [
        {
          "output_type": "execute_result",
          "data": {
            "text/plain": [
              "0    5163\n",
              "1    5163\n",
              "Name: Churn, dtype: int64"
            ]
          },
          "metadata": {},
          "execution_count": 99
        }
      ],
      "source": [
        "from imblearn.over_sampling import SMOTE\n",
        "\n",
        "smote = SMOTE(sampling_strategy='minority')\n",
        "x_sm, y_sm = smote.fit_resample(x , y)\n",
        "\n",
        "y_sm.value_counts()"
      ]
    },
    {
      "cell_type": "code",
      "execution_count": 100,
      "id": "4a926568",
      "metadata": {
        "colab": {
          "base_uri": "https://localhost:8080/"
        },
        "id": "4a926568",
        "outputId": "f05d6a02-d5f0-4552-81e3-2cf0a8b9c03e"
      },
      "outputs": [
        {
          "output_type": "execute_result",
          "data": {
            "text/plain": [
              "(0.8083252662149081, 0.7765765765765765, 0.8132075471698113)"
            ]
          },
          "metadata": {},
          "execution_count": 100
        }
      ],
      "source": [
        "get_Score(x_sm, y_sm)"
      ]
    },
    {
      "cell_type": "code",
      "execution_count": 43,
      "id": "6841aeb5",
      "metadata": {
        "id": "6841aeb5"
      },
      "outputs": [],
      "source": [
        "# Even after addressing the imbalace issue it is hard to get good accuracy\n",
        "# So now lets go with Artificial Neural Network"
      ]
    },
    {
      "cell_type": "code",
      "execution_count": null,
      "id": "c1a623e7",
      "metadata": {
        "id": "c1a623e7"
      },
      "outputs": [],
      "source": []
    },
    {
      "cell_type": "code",
      "execution_count": null,
      "id": "ddc71d48",
      "metadata": {
        "id": "ddc71d48"
      },
      "outputs": [],
      "source": []
    },
    {
      "cell_type": "code",
      "execution_count": 101,
      "id": "1311774a",
      "metadata": {
        "id": "1311774a"
      },
      "outputs": [],
      "source": [
        "x_ann = data_ann.drop('Churn',axis=1)\n",
        "y_ann = data_ann['Churn']"
      ]
    },
    {
      "cell_type": "code",
      "execution_count": 102,
      "id": "254ca014",
      "metadata": {
        "colab": {
          "base_uri": "https://localhost:8080/"
        },
        "id": "254ca014",
        "outputId": "b6c2705a-15e5-4c19-f9e3-82e816210443"
      },
      "outputs": [
        {
          "output_type": "stream",
          "name": "stdout",
          "text": [
            "Requirement already satisfied: tensorflow-addons in /usr/local/lib/python3.10/dist-packages (0.21.0)\n",
            "Requirement already satisfied: packaging in /usr/local/lib/python3.10/dist-packages (from tensorflow-addons) (23.1)\n",
            "Requirement already satisfied: typeguard<3.0.0,>=2.7 in /usr/local/lib/python3.10/dist-packages (from tensorflow-addons) (2.13.3)\n"
          ]
        }
      ],
      "source": [
        "!pip install tensorflow-addons\n",
        "\n",
        "from tensorflow_addons import losses"
      ]
    },
    {
      "cell_type": "code",
      "source": [
        "import tensorflow as tf\n",
        "from tensorflow import keras\n",
        "from sklearn.metrics import confusion_matrix , classification_report"
      ],
      "metadata": {
        "id": "R7hJLANuDva6"
      },
      "id": "R7hJLANuDva6",
      "execution_count": 103,
      "outputs": []
    },
    {
      "cell_type": "code",
      "source": [
        "x_ann.shape"
      ],
      "metadata": {
        "colab": {
          "base_uri": "https://localhost:8080/"
        },
        "id": "WgC_BOZ4DzvE",
        "outputId": "96c9f834-4859-4703-8cb3-2bfdccc94b2c"
      },
      "id": "WgC_BOZ4DzvE",
      "execution_count": 104,
      "outputs": [
        {
          "output_type": "execute_result",
          "data": {
            "text/plain": [
              "(7032, 19)"
            ]
          },
          "metadata": {},
          "execution_count": 104
        }
      ]
    },
    {
      "cell_type": "code",
      "source": [
        "def ANN(X_train, y_train, X_test, y_test, loss, weights):\n",
        "    model = keras.Sequential([\n",
        "        keras.layers.Dense(26, input_dim=19, activation='relu'),\n",
        "        keras.layers.Dense(15, activation='relu'),\n",
        "        keras.layers.Dense(1, activation='sigmoid')\n",
        "    ])\n",
        "\n",
        "    model.compile(optimizer='adam', loss=loss, metrics=['accuracy'])\n",
        "\n",
        "    if weights == -1:\n",
        "        model.fit(X_train, y_train, epochs=10)\n",
        "    else:\n",
        "        model.fit(X_train, y_train, epochs=10, class_weight = weights)\n",
        "\n",
        "    print(model.evaluate(X_test, y_test))\n",
        "\n",
        "    y_preds = model.predict(X_test)\n",
        "    y_preds = np.round(y_preds)\n",
        "\n",
        "    print(\"Classification Report: \\n\", classification_report(y_test, y_preds))\n",
        "\n",
        "    return y_preds"
      ],
      "metadata": {
        "id": "MfhAldMlD6nT"
      },
      "id": "MfhAldMlD6nT",
      "execution_count": 105,
      "outputs": []
    },
    {
      "cell_type": "code",
      "source": [
        "X_train, X_test, y_train, y_test = train_test_split(x_ann, y_ann, test_size=0.2, random_state=15, stratify=y)"
      ],
      "metadata": {
        "id": "v5popWklD-MW"
      },
      "id": "v5popWklD-MW",
      "execution_count": 106,
      "outputs": []
    },
    {
      "cell_type": "code",
      "source": [
        "y_preds = ANN(X_train, y_train, X_test, y_test, 'binary_crossentropy', -1)"
      ],
      "metadata": {
        "colab": {
          "base_uri": "https://localhost:8080/"
        },
        "id": "12F9s4sQEB-j",
        "outputId": "60001c1f-67fc-44bb-981b-d0c2a1d6b881"
      },
      "id": "12F9s4sQEB-j",
      "execution_count": 107,
      "outputs": [
        {
          "output_type": "stream",
          "name": "stdout",
          "text": [
            "Epoch 1/10\n",
            "176/176 [==============================] - 5s 6ms/step - loss: 0.4870 - accuracy: 0.7490\n",
            "Epoch 2/10\n",
            "176/176 [==============================] - 1s 6ms/step - loss: 0.4310 - accuracy: 0.7858\n",
            "Epoch 3/10\n",
            "176/176 [==============================] - 3s 16ms/step - loss: 0.4241 - accuracy: 0.7892\n",
            "Epoch 4/10\n",
            "176/176 [==============================] - 2s 12ms/step - loss: 0.4205 - accuracy: 0.7941\n",
            "Epoch 5/10\n",
            "176/176 [==============================] - 1s 5ms/step - loss: 0.4171 - accuracy: 0.7968\n",
            "Epoch 6/10\n",
            "176/176 [==============================] - 2s 9ms/step - loss: 0.4157 - accuracy: 0.7973\n",
            "Epoch 7/10\n",
            "176/176 [==============================] - 1s 7ms/step - loss: 0.4142 - accuracy: 0.8012\n",
            "Epoch 8/10\n",
            "176/176 [==============================] - 1s 8ms/step - loss: 0.4130 - accuracy: 0.8034\n",
            "Epoch 9/10\n",
            "176/176 [==============================] - 2s 9ms/step - loss: 0.4123 - accuracy: 0.8009\n",
            "Epoch 10/10\n",
            "176/176 [==============================] - 2s 9ms/step - loss: 0.4110 - accuracy: 0.8043\n",
            "44/44 [==============================] - 2s 6ms/step - loss: 0.4333 - accuracy: 0.8010\n",
            "[0.4332757294178009, 0.8009950518608093]\n",
            "44/44 [==============================] - 1s 6ms/step\n",
            "Classification Report: \n",
            "               precision    recall  f1-score   support\n",
            "\n",
            "           0       0.86      0.87      0.87      1033\n",
            "           1       0.63      0.60      0.62       374\n",
            "\n",
            "    accuracy                           0.80      1407\n",
            "   macro avg       0.75      0.74      0.74      1407\n",
            "weighted avg       0.80      0.80      0.80      1407\n",
            "\n"
          ]
        }
      ]
    },
    {
      "cell_type": "code",
      "source": [
        "X_train, X_test, y_train, y_test = train_test_split(x_under, y_under, test_size=0.2, random_state=15, stratify=y_under)\n",
        "y_preds = ANN(X_train, y_train, X_test, y_test, 'binary_crossentropy', -1)"
      ],
      "metadata": {
        "colab": {
          "base_uri": "https://localhost:8080/"
        },
        "id": "yu7DPkFYEITh",
        "outputId": "d20b2cab-3494-4d73-8e04-f511781fc9f8"
      },
      "id": "yu7DPkFYEITh",
      "execution_count": 108,
      "outputs": [
        {
          "output_type": "stream",
          "name": "stdout",
          "text": [
            "Epoch 1/10\n",
            "94/94 [==============================] - 4s 5ms/step - loss: 0.5952 - accuracy: 0.6880\n",
            "Epoch 2/10\n",
            "94/94 [==============================] - 0s 4ms/step - loss: 0.5184 - accuracy: 0.7488\n",
            "Epoch 3/10\n",
            "94/94 [==============================] - 1s 6ms/step - loss: 0.5062 - accuracy: 0.7559\n",
            "Epoch 4/10\n",
            "94/94 [==============================] - 0s 4ms/step - loss: 0.5002 - accuracy: 0.7609\n",
            "Epoch 5/10\n",
            "94/94 [==============================] - 0s 5ms/step - loss: 0.4953 - accuracy: 0.7652\n",
            "Epoch 6/10\n",
            "94/94 [==============================] - 1s 6ms/step - loss: 0.4930 - accuracy: 0.7622\n",
            "Epoch 7/10\n",
            "94/94 [==============================] - 1s 5ms/step - loss: 0.4898 - accuracy: 0.7669\n",
            "Epoch 8/10\n",
            "94/94 [==============================] - 1s 6ms/step - loss: 0.4886 - accuracy: 0.7709\n",
            "Epoch 9/10\n",
            "94/94 [==============================] - 0s 5ms/step - loss: 0.4876 - accuracy: 0.7635\n",
            "Epoch 10/10\n",
            "94/94 [==============================] - 1s 5ms/step - loss: 0.4851 - accuracy: 0.7652\n",
            "24/24 [==============================] - 1s 8ms/step - loss: 0.5195 - accuracy: 0.7299\n",
            "[0.5195237994194031, 0.7299465537071228]\n",
            "24/24 [==============================] - 0s 3ms/step\n",
            "Classification Report: \n",
            "               precision    recall  f1-score   support\n",
            "\n",
            "           0       0.73      0.73      0.73       374\n",
            "           1       0.73      0.73      0.73       374\n",
            "\n",
            "    accuracy                           0.73       748\n",
            "   macro avg       0.73      0.73      0.73       748\n",
            "weighted avg       0.73      0.73      0.73       748\n",
            "\n"
          ]
        }
      ]
    },
    {
      "cell_type": "code",
      "source": [
        "X_train, X_test, y_train, y_test = train_test_split(x_over, y_over, test_size=0.2, random_state=15, stratify=y_over)\n",
        "y_preds = ANN(X_train, y_train, X_test, y_test, 'binary_crossentropy', -1)"
      ],
      "metadata": {
        "colab": {
          "base_uri": "https://localhost:8080/"
        },
        "id": "cgrtnyarEtzZ",
        "outputId": "c1da4407-315b-4ca7-bffc-a5abb589c87c"
      },
      "id": "cgrtnyarEtzZ",
      "execution_count": 109,
      "outputs": [
        {
          "output_type": "stream",
          "name": "stdout",
          "text": [
            "Epoch 1/10\n",
            "259/259 [==============================] - 4s 4ms/step - loss: 0.5514 - accuracy: 0.7185\n",
            "Epoch 2/10\n",
            "259/259 [==============================] - 1s 3ms/step - loss: 0.4990 - accuracy: 0.7556\n",
            "Epoch 3/10\n",
            "259/259 [==============================] - 1s 4ms/step - loss: 0.4924 - accuracy: 0.7603\n",
            "Epoch 4/10\n",
            "259/259 [==============================] - 1s 4ms/step - loss: 0.4889 - accuracy: 0.7616\n",
            "Epoch 5/10\n",
            "259/259 [==============================] - 1s 3ms/step - loss: 0.4864 - accuracy: 0.7650\n",
            "Epoch 6/10\n",
            "259/259 [==============================] - 1s 3ms/step - loss: 0.4836 - accuracy: 0.7661\n",
            "Epoch 7/10\n",
            "259/259 [==============================] - 1s 3ms/step - loss: 0.4814 - accuracy: 0.7677\n",
            "Epoch 8/10\n",
            "259/259 [==============================] - 1s 4ms/step - loss: 0.4792 - accuracy: 0.7689\n",
            "Epoch 9/10\n",
            "259/259 [==============================] - 1s 4ms/step - loss: 0.4771 - accuracy: 0.7685\n",
            "Epoch 10/10\n",
            "259/259 [==============================] - 2s 6ms/step - loss: 0.4750 - accuracy: 0.7703\n",
            "65/65 [==============================] - 1s 6ms/step - loss: 0.4815 - accuracy: 0.7667\n",
            "[0.48150816559791565, 0.766698956489563]\n",
            "65/65 [==============================] - 0s 4ms/step\n",
            "Classification Report: \n",
            "               precision    recall  f1-score   support\n",
            "\n",
            "           0       0.79      0.72      0.76      1033\n",
            "           1       0.75      0.81      0.78      1033\n",
            "\n",
            "    accuracy                           0.77      2066\n",
            "   macro avg       0.77      0.77      0.77      2066\n",
            "weighted avg       0.77      0.77      0.77      2066\n",
            "\n"
          ]
        }
      ]
    },
    {
      "cell_type": "code",
      "source": [],
      "metadata": {
        "id": "YEDzjOc3FCDw"
      },
      "id": "YEDzjOc3FCDw",
      "execution_count": null,
      "outputs": []
    }
  ],
  "metadata": {
    "kernelspec": {
      "display_name": "Python 3 (ipykernel)",
      "language": "python",
      "name": "python3"
    },
    "language_info": {
      "codemirror_mode": {
        "name": "ipython",
        "version": 3
      },
      "file_extension": ".py",
      "mimetype": "text/x-python",
      "name": "python",
      "nbconvert_exporter": "python",
      "pygments_lexer": "ipython3",
      "version": "3.9.12"
    },
    "colab": {
      "provenance": []
    }
  },
  "nbformat": 4,
  "nbformat_minor": 5
}